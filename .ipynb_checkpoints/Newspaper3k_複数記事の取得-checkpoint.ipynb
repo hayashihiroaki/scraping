{
 "cells": [
  {
   "cell_type": "markdown",
   "metadata": {},
   "source": [
    "# 複数のニュース記事の取得・CSVファイルへの保存"
   ]
  },
  {
   "cell_type": "code",
   "execution_count": 1,
   "metadata": {},
   "outputs": [],
   "source": [
    "import newspaper"
   ]
  },
  {
   "cell_type": "code",
   "execution_count": 2,
   "metadata": {},
   "outputs": [],
   "source": [
    "import csv"
   ]
  },
  {
   "cell_type": "code",
   "execution_count": 3,
   "metadata": {},
   "outputs": [],
   "source": [
    "import datetime"
   ]
  },
  {
   "cell_type": "code",
   "execution_count": 4,
   "metadata": {},
   "outputs": [],
   "source": [
    "csv_date = datetime.datetime.today().strftime(\"%Y%m%d\")"
   ]
  },
  {
   "cell_type": "code",
   "execution_count": 5,
   "metadata": {},
   "outputs": [],
   "source": [
    "csv_file_name = \"bloomberg_\" + csv_date + \".csv\""
   ]
  },
  {
   "cell_type": "code",
   "execution_count": 6,
   "metadata": {},
   "outputs": [],
   "source": [
    "f = open(csv_file_name,\"w\",encoding=\"cp932\",errors = \"ignore\")"
   ]
  },
  {
   "cell_type": "code",
   "execution_count": 7,
   "metadata": {},
   "outputs": [
    {
     "data": {
      "text/plain": [
       "19"
      ]
     },
     "execution_count": 7,
     "metadata": {},
     "output_type": "execute_result"
    }
   ],
   "source": [
    "writer = csv.writer(f,lineterminator=\"\\n\")\n",
    "csv_header = [\"記事番号\",\"タイトル\",\"URL\",\"サマリー\"]\n",
    "writer.writerow(csv_header)"
   ]
  },
  {
   "cell_type": "code",
   "execution_count": 8,
   "metadata": {},
   "outputs": [],
   "source": [
    "url = \"https://www.bloomberg.co.jp/\""
   ]
  },
  {
   "cell_type": "code",
   "execution_count": 9,
   "metadata": {},
   "outputs": [],
   "source": [
    "website = newspaper.build(url, memoize_articles = False)"
   ]
  },
  {
   "cell_type": "code",
   "execution_count": 10,
   "metadata": {},
   "outputs": [
    {
     "name": "stdout",
     "output_type": "stream",
     "text": [
      "記事 0 : 【米国市況】株下落、大型テクノロジー銘柄が軟調－ドルも値下がり\n",
      "https://www.bloomberg.co.jp/news/articles/2020-04-28/Q9IHXBT0G1KX01?srnd=cojp-v2\n",
      "Photographer: Kena Betancur/Getty Images North America Photographer: Kena Betancur/Getty Images North America米国株は下落。消費者信頼感が急低下し、業績見通しを撤回する企業が増加する中、大型テクノロジー銘柄が大きく下げ主要株価指数の重しとなった。ドルは軟化した。米国株は下落、大型テクノロジー銘柄が軟調米国債は上昇、10年債利回り0.61％ドル下落、経済活動再開の動きや月末のポートフォリオ調整でＮＹ原油は続落、指標指数が期近物のロールオーバー前倒しＮＹ金先物は３日続落、経済再開の動きで逃避需要が後退Ｓ＆Ｐ500種株価指数は３営業日ぶりに下落。フェイスブックやアマゾン・ドット・コム、ネットフリックスは軟調だった。一方、カジノ運営やクルーズ船運航といった新型コロナウイルスを巡る状況に敏感な銘柄は上昇。ナスダック総合指数は大きく下落。４月の米消費者信頼感指数が2014年以来の低水準となったことが手掛かり。ウェルズ・ファーゴ・インベストメント・インスティチュートのシニアグローバル市場ストラテジスト、サミーア・サマナ氏は「ローテーションが進行中のようだ」と分析。「問題はこれが持続性のあるシフトなのか、トレンドに逆らった動きなのかということだ」と述べた。Ｓ＆Ｐ500種株価指数は前日比0.5％安の2863.39。ダウ工業株30種平均は32.23ドル（0.1％）下げて24101.55ドル。ナスダック総合指数は1.4％下落。米国債市場では10年債利回りが５ベーシスポイント（ｂｐ、１ｂｐ＝0.01％）低下の0.61％。ドルは３日続落。経済活動の再開に向けて動き出す国が増えたことが手掛かり。月末を控えたポートフォリオのリバランスが影響したとの見方もある。ブルームバーグ・ドル・スポット指数は0.3％低下。一時0.6％下げた。ドルは対円では0.4％安の１ドル＝106円86銭。対ユーロでは0.1％未満下げて１ユーロ＝1.0833ドル。ニューヨーク原油先物相場は続落。商品相場の指標指数「Ｓ＆Ｐ・ＧＳＣＩ」をまとめているＳ＆Ｐグローバルが、ＷＴＩ原油先物６月限のポジションを全て７月限にロールオーバーすると顧客に 通知したのを手掛かりに、下落が加速。一時は10ドル近辺に下げた。ニューヨーク商業取引所（ＮＹＭＥＸ）のウェスト・テキサス・インターミディエート（ＷＴＩ）先物６月限は44セント（3.4％）安の１バレル＝12.34ドルで終了。ロンドンＩＣＥの北海ブレント６月限は47セント高の20.46ドル。ニューヨーク金先物相場は３営業日続落。経済再開に向けた動きで逃避需要が後退した。スペインやフランスなどが制限措置の緩和に向けて動き始めた。世界保健機関（ＷＨＯ）のテドロス事務局長は一方、新型コロナのパンデミックは終息に程遠いと述べた。ニューヨーク商品取引所（ＣＯＭＥＸ）の金先物６月限は0.1％安の１オンス＝1722.20ドルで終了。原題： Megacap Slump Drags Down Nasdaq; Dollar Weakens: Markets Wrap（抜粋）Dollar Weakens on Economies Reopening; Fed Meets: Inside G-10Oil Falls After Major Index Bails Out of June WTI ContractGold Slips With Restarts in Focus Before Central Bank Decisions\n",
      "\n",
      "記事 1 : アルファベット決算、予想上回る増収－３月には広告事業落ち込む\n",
      "https://www.bloomberg.co.jp/news/articles/2020-04-28/Q9ILWZDWLU6K01?srnd=cojp-v2\n",
      "Photographer: Christopher Occhicone/Bloomberg Photographer: Christopher Occhicone/Bloomberg米 アルファベットが28日発表した１－３月（第１四半期）の決算は、予想を上回る増収となった。新型コロナウイルスの大流行が顧客企業に打撃を与える前、子会社グーグルでの広告需要が比較的高く推移していたことを示した。トラフィック獲得コスト（ＴＡＣ）を除いたベースの売上高は、前年同期比14％増の337億1000万ドル（約３兆6000億円）。ブルームバーグが集計したアナリスト予想の平均は326億ドルだった。同社は業績予想を示さなかった。ただルース・ポラット最高財務責任者（ＣＦＯ）は、３月は厳しかったとの認識を発表資料で示した。「四半期最初の２カ月は好調だったが、３月に入り広告収入が大きく鈍化した」とし、「長期的なビジネス機会への投資を継続すると同時に、ビジネス実行の効率性アップにいっそう重点を置いている」と説明した。アルファベットの株価は時間外取引で一時、５％余り上昇した。28日終値は前日比３％安の1232.59ドル。アルファベットはクラウドサービスや消費者向けハードウエアなどに事業を多角化しているが、広告収入は今も売上高の大部分を占める。 エクスペディアなどの大口顧客はすでに、マーケティング費用を削っている。世界的な広告大手の インターパブリック・グループは先週、第２四半期は「極めて厳しくなる」との見方を示した。グーグルの広告収入は、かなりの部分を中小企業から得ており、これら企業はリセッション（景気後退）の深刻化で事業閉鎖に追い込まれる恐れがある。原題： Alphabet Reports Strong First-Quarter Revenue, March Ad Slowdown（抜粋）\n",
      "\n",
      "記事 2 : 米金融市場は2008年と奇妙な相似、再度下落の可能性を弱気派が警告\n",
      "https://www.bloomberg.co.jp/news/articles/2020-04-28/Q9I6S4DWRGG001?srnd=cojp-v2\n",
      "Photographer: Michael Nagle/Bloomberg Photographer: Michael Nagle/Bloomberg新型コロナウイルス感染拡大で急落した後、回復を続ける現在の相場が偽物なのかどうかを見極めるため、投資家は電力消費から感染動向まで全てを参照している。歴史を振り返ることもしているかもしれない。そこで示されているのは、不吉な兆しだ。米金融市場の動きは2008年と奇妙な相似を見せている。このパターンをたどるなら、市場全般が少なくともあと１回は急落に見舞われるだろう。株式、債券、短期金融市場のストレスを指数化したブルームバーグ米国金融環境指数によると、新型コロナの急落は３月第３週まで１カ月続き、その後の１カ月で下げのほぼ半分を取り戻した。これは金融危機時のパターンをほぼ正確になぞっている。不安なことに、08年はそこから下げに転じ、約１カ月にわたって下落相場が続いた。もちろん、今回の危機を取り巻く状況は2008年とはかけ離れている。世界の大多数の人はこれほどのパンデミック（世界的大流行）を体験したことがなく、経済活動がこれほど深刻かつ急速に落ち込むのを経験した投資家はいない。一方で、中央銀行はかつてないほど素早く対処し、大規模な措置を打ち出した。それでも似ている部分はあり、それが弱気派の根拠になっている。ゴールドマン・サックス・グループの在ロンドン資産配分担当責任者、クリスチャン・ミュラーグリスマン氏は「急激な上昇を経て、株式が再び下落するリスクは増した」とインタビューで発言。ウイルスの「経済成長に対する衝撃の全体的な規模や、生じ得る二次的な影響についてまだ分かっていない」と述べた。原題：A Gauge of U.S. Market Stress Is Behaving a Lot Like 2008（抜粋）\n",
      "\n",
      "記事 3 : 【新型コロナ】米国の感染者100万人超、死者数はベトナム戦争上回る\n",
      "https://www.bloomberg.co.jp/news/articles/2020-04-27/Q9GPP7T0G1KY01?srnd=cojp-v2\n",
      "Photographer: Simon Dawson/Bloomberg Photographer: Simon Dawson/Bloomberg米国の新型コロナウイルス感染者数が100万人を突破し、死者は５万8300人超と、ベトナム戦争で亡くなった米国人の数（５万8220人）を上回った。感染拡大阻止の制限措置緩和に向かう欧州では、フランスが５月11日から店舗営業を再開する計画を発表した。スペインは「ニューノーマル（新たな常識）」に備え、向こう８週間でロックダウン（都市封鎖）の解除を目指すとサンチェス首相は述べた。トランプ米大統領は食肉加工施設に操業の継続を指示する 計画だと、事情を知る関係者が明らかにした。トランプ大統領はホワイトハウスで28日、国際線で米国に到着する人々に対する新型コロナ 検査義務付けの可能性を政府として「詳細に検討している」と語った。体温検査かコロナ診断検査のどちらかとの問いに対し、「両方だ」と答えた。米ジョンズ・ホプキンス大学とブルームバーグ・ニュースの 集計データによると、世界の新型コロナウイルス感染者は311万人余り、死者は21万6000人を超えている。ただ、ドイツでは24時間での新規感染者数が５週間余りで初めて 1000人を下回った。一方、中国医学科学院病原生物学研究所は新型コロナは根絶されることはなく、インフルエンザと同じように季節によって流行するとの見方を示した。こうした見方が世界的なコンセンサスとなりつつある。フランスのフィリップ首相は、レストランやカフェなど飲食施設の営業再開については５月末に決断を下すと説明。学校児童は５月11日から登校できるが、厳しい規制が伴うと話した。原題： U.S. Covid-19 Deaths Top Lives Lost in Vietnam War: Virus Update、 Trump Says He May Order Virus Tests for International Travelers（抜粋）\n",
      "\n",
      "記事 4 : ボーイングに刑事・民事の両面から調査、７３７ＭＡＸ問題で－ＤＪ\n",
      "https://www.bloomberg.co.jp/news/articles/2020-04-28/Q9I8UTT0AFBA01?srnd=cojp-v2\n",
      "米航空機大手のボーイングは、長年にわたる７３７ＭＡＸの品質管理不行き届きで、刑事・民事の両面から調査を受ける見通しだと、ダウ・ジョーンズ通信（ＤＪ）が事情に詳しい関係者の話として報じた。原題：Boeing Faces Criminal, Civil Scrutiny Into 737 Max Lapses: DJ（抜粋）\n",
      "\n",
      "記事 5 : ＡＭＤ株、時間外で下落－弱い４－６月売上高見通しを嫌気\n",
      "https://www.bloomberg.co.jp/news/articles/2020-04-29/Q9ITTQT0G1KX01?srnd=cojp-v2\n",
      "半導体メーカーの米 アドバンスト・マイクロ・デバイセズ（ＡＭＤ）は28日、４－６月（第２四半期）について弱い売上高見通しを示した。在宅勤務を支えるためのコンピューターへの支出急増からより多くの恩恵を受けると予想していた一部の投資家を失望させた。発表資料によると、４－６月の売上高見通しは約18億5000万ドル（約1970億円）。ブルームバーグがまとめたアナリスト予想平均は18億8000万ドルだった。ＡＭＤ株は時間外取引で約４％下落した。１－３月（第１四半期）の純利益は１億6200万ドル（１株当たり14セント）。売上高は前年同期比40％増の17億9000万ドル。一部項目を除いた１株利益は18セント。アナリスト予想は１株利益が18セント、売上高が17億8000万ドルだった。原題： AMD Falls on Weak Revenue Projections, In-Line Earnings (1)、AMD Sees Second Quarter Revenue $1.75 Bln to $1.95 Bln（抜粋）\n",
      "\n",
      "記事 6 : トランプ米大統領、食肉加工施設の稼働継続を命じる意向－関係者\n",
      "https://www.bloomberg.co.jp/news/articles/2020-04-28/Q9IFDVT0G1LG01?srnd=cojp-v2\n",
      "トランプ米大統領は食肉加工施設に稼働継続を命じる考えだ。新型コロナウイルスの感染拡大で食品供給網の混乱が深刻化する中、食品加工施設を必要不可欠なインフラに指定する。事情に詳しい関係者が明らかにした。この関係者によればトランプ大統領は国防生産法に基づき、新型コロナのパンデミック（世界的大流行）の間も稼働を続けるよう食肉加工業者に命じる考え。政府は作業員用の保護具を追加提供するほか、指針も示すという。トランプ氏は27日にホワイトハウスで、大統領令の発令を示唆。食肉加工大手 タイソン・フーズの賠償責任に的を絞った大統領令への署名を考えていると述べたが、詳細には踏み込まなかった。関係者によれば、大統領令はタイソンに限定されない見通し。牛肉や鶏肉、卵、豚肉を供給する多くの加工施設が対象となる。米国では施設閉鎖により、食肉生産能力の最大80％が停止するとの推計がある。原題： Trump to Order U.S. Meat Plants to Stay Open Amid Pandemic (1)（抜粋）\n",
      "\n",
      "記事 7 : スターバックス、通期の中国既存店売上高15～25％減と予想－株価下落\n",
      "https://www.bloomberg.co.jp/news/articles/2020-04-29/Q9IXKPT0AFBK01?srnd=cojp-v2\n",
      "米 スターバックスは28日、中国の既存店売上高が2020年９月期に15－25％減少するとの見通しを示した。ほぼ全ての中国店舗で営業を再開したが、新型コロナウイルス感染拡大の影響が長期化するとみている。同社の株価は時間外取引で下落した。世界の１－３月（第２四半期）既存店売上高は10％減と、コンセンサス・メトリックスが集計した平均予想（9.7％減）より若干悪かった。中国では50％減った。原題： Starbucks Sees Covid-19 Trimming Up to 25% of China 2020 Sales（抜粋）\n",
      "\n",
      "記事 8 : フォード、４－６月に5300億円超の営業赤字見込む－時間外で株価下落\n",
      "https://www.bloomberg.co.jp/news/articles/2020-04-29/Q9IQGQT1UM1301?srnd=cojp-v2\n",
      "米 フォード・モーターは28日、新型コロナウイルスのパンデミック（世界的大流行）が世界の自動車業界に打撃を与えているため、４－６月（第２四半期）の営業損益が50億ドル（約5300億円）超の赤字になるとの見通しを示した。株価は通常取引終了後の時間外で下落した。今回の見通しは一部アナリストの赤字予想よりも約20億ドル悪く、４－６月に全ての地域で販売台数が大幅に減少するとの同社の 想定に基づいている。フォード株は時間外取引で一時7.4％値下がりした。年初から28日の通常取引終了までの下落率は42％。ジム・ハケット最高経営責任者（ＣＥＯ） 写真家：Mark Kauzlarich / Bloomberg１－３月（第１四半期）の自動車部門売上高は前年同期比15％減の313億4000万ドルと、アナリストの予想平均を下回った。フォードは経済環境が不透明なため通期見通しを示すことができないと説明した。利払い・税引き前損益は調整後で６億3200万ドルの赤字。フォードは新型コロナの影響で少なくとも20億ドル悪化したと推計している。原題： Ford Rout Worsens on Forecast for $5 Billion Quarterly Loss (2)（抜粋）\n",
      "\n",
      "記事 9 : 中国の新型コロナ感染症例、28日は22件増－無症状感染は新たに26件\n",
      "https://www.bloomberg.co.jp/news/articles/2020-04-29/Q9IX4BT0AFBS01?srnd=cojp-v2\n",
      "中国の国家衛生健康委員会は29日、確認された新型コロナウイルス感染症例が28日時点の累計で８万2858件になったと発表した。同日は22件増え、そのうち21件が国外からの入国者の感染例だった。28日の無症状感染症例は新たに26件。医療観察中の無症状感染例は993件。この日に報告された死者はゼロで、本土の死者数は計4633人で変わらず。原題：China Has 22 Coronavirus Cases, 26 Asymptomatic Cases April 28（抜粋）\n",
      "\n",
      "記事 10 : トランプ米大統領、海外からの渡航者に新型コロナ検査を義務付けも\n",
      "https://www.bloomberg.co.jp/news/articles/2020-04-28/Q9ID6HT1UM1401?srnd=cojp-v2\n",
      "トランプ米大統領は、国際線で米国に到着する人々に対する新型コロナウイルス検査の義務付けを検討していると明らかにした。トランプ氏は28日、ホワイトハウスで行われたデサンティス・フロリダ州知事（共和）との会談で、政府として「詳細に検討している」と述べた。到着した人に対する体温検査か、もしくはウイルス感染の有無を調べる診断検査なのかとの問いには「両方だ」と答えた。原題： Trump Says He May Order Virus Tests for International Travelers（抜粋）\n",
      "\n"
     ]
    }
   ],
   "source": [
    "i = 0\n",
    "for article in website.articles:\n",
    "    csvlist = []\n",
    "    article.download()\n",
    "    article.parse()\n",
    "    article.nlp()\n",
    "    print(\"記事\",str(i),\":\",article.title)\n",
    "    print(article.url)\n",
    "    print(article.summary, end=\"\\n\\n\")\n",
    "    csvlist.append(str(i))\n",
    "    csvlist.append(article.title)\n",
    "    csvlist.append(article.url)\n",
    "    csvlist.append(article.summary)\n",
    "    writer.writerow(csvlist)\n",
    "    \n",
    "    if i > 9:\n",
    "        break\n",
    "    i = i + 1\n",
    "f.close()"
   ]
  }
 ],
 "metadata": {
  "kernelspec": {
   "display_name": "Python 3",
   "language": "python",
   "name": "python3"
  },
  "language_info": {
   "codemirror_mode": {
    "name": "ipython",
    "version": 3
   },
   "file_extension": ".py",
   "mimetype": "text/x-python",
   "name": "python",
   "nbconvert_exporter": "python",
   "pygments_lexer": "ipython3",
   "version": "3.6.5"
  }
 },
 "nbformat": 4,
 "nbformat_minor": 2
}

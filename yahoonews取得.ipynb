{
 "cells": [
  {
   "cell_type": "code",
   "execution_count": 1,
   "metadata": {},
   "outputs": [],
   "source": [
    "import sys\n",
    "sys.path.append('/Library/Frameworks/Python.framework/Versions/3.9/lib/python3.9/site-packages') \n",
    "sys.path.remove('/usr/local/lib/python3.9/site-packages') \n",
    "sys.path.remove( '/usr/local/lib/python3.9/site-packages/IPython/extensions') \n",
    "\n",
    "import requests \n",
    "from bs4 import BeautifulSoup\n",
    "import time"
   ]
  },
  {
   "cell_type": "code",
   "execution_count": 2,
   "metadata": {},
   "outputs": [],
   "source": [
    "url=\"https://yahoo.co.jp/\""
   ]
  },
  {
   "cell_type": "code",
   "execution_count": 3,
   "metadata": {},
   "outputs": [],
   "source": [
    "res=requests.get(url)"
   ]
  },
  {
   "cell_type": "code",
   "execution_count": 4,
   "metadata": {},
   "outputs": [],
   "source": [
    "soup=BeautifulSoup(res.text,\"html.parser\")"
   ]
  },
  {
   "cell_type": "code",
   "execution_count": 5,
   "metadata": {},
   "outputs": [],
   "source": [
    "elems=soup.find_all(\"a\")"
   ]
  },
  {
   "cell_type": "code",
   "execution_count": 6,
   "metadata": {},
   "outputs": [
    {
     "data": {
      "text/plain": [
       "[<a class=\"yMWCYupQNdgppL-NV6sMi _3sAlKGsIBCxTUbNi86oSjt\" data-ylk=\"slk:bbhelp;pos:0\" href=\"https://www.yahoo-help.jp/\">ヘルプ</a>,\n",
       " <a class=\"yMWCYupQNdgppL-NV6sMi _3sAlKGsIBCxTUbNi86oSjt\" data-ylk=\"slk:bbhelp;pos:1\" href=\"https://www.yahoo-help.jp/app/home/p/356/\">Yahoo!BBヘルプ</a>,\n",
       " <a class=\"yMWCYupQNdgppL-NV6sMi _3sAlKGsIBCxTUbNi86oSjt\" data-ylk=\"rsec:header;slk:logo;pos:0\" href=\"https://www.yahoo.co.jp\">Yahoo! JAPAN</a>,\n",
       " <a aria-label=\"PayPay STEPへ遷移する\" class=\"yMWCYupQNdgppL-NV6sMi _3sAlKGsIBCxTUbNi86oSjt\" data-ylk=\"rsec:header;slk:paypaystep;pos:0\" href=\"https://paypaystep.yahoo.co.jp/?sc_e=ytmh_p2c_web\"><p class=\"oLvk9L5Yk-9JOuzi-OHW5\"><span class=\"t_jb9bKlgIcajcRS2hZAP\">PayPay STEP</span><span class=\"_2Uq6Pw5lfFfxr_OD36xHp6 _1dr5aVDbNPF63JCS2bJhij _18UPg6R6cxJSC9JHKF8juc\" style=\"width:38px;height:38px\"></span></p></a>,\n",
       " <a aria-label=\"カードへ遷移する\" class=\"yMWCYupQNdgppL-NV6sMi _3sAlKGsIBCxTUbNi86oSjt\" data-ylk=\"rsec:header;slk:card;pos:0\" href=\"https://card.yahoo.co.jp/service/redirect/top/\"><p class=\"oLvk9L5Yk-9JOuzi-OHW5\"><span class=\"t_jb9bKlgIcajcRS2hZAP\">カード</span><span class=\"_2Uq6Pw5lfFfxr_OD36xHp6 _1dr5aVDbNPF63JCS2bJhij _1MaEI7rEHB4FpQ1MwfWxIK\" style=\"width:36px;height:38px\"></span></p></a>,\n",
       " <a aria-label=\"メールへ遷移する\" class=\"yMWCYupQNdgppL-NV6sMi _3sAlKGsIBCxTUbNi86oSjt\" data-ylk=\"rsec:header;slk:mail;pos:0\" href=\"https://mail.yahoo.co.jp/\"><p class=\"oLvk9L5Yk-9JOuzi-OHW5\"><span class=\"t_jb9bKlgIcajcRS2hZAP\">メール</span><span class=\"_2Uq6Pw5lfFfxr_OD36xHp6 _1dr5aVDbNPF63JCS2bJhij _3Qi5P0lTFbNkWishPzz8tb\" style=\"width:36px;height:38px\"></span></p></a>,\n",
       " <a aria-label=\"トラベルへ遷移する\" class=\"yMWCYupQNdgppL-NV6sMi _3sAlKGsIBCxTUbNi86oSjt\" data-ylk=\"rsec:header;slk:travel;pos:0\" href=\"https://travel.yahoo.co.jp/promo/gototravel/?sc_e=ytmh\"><p class=\"oLvk9L5Yk-9JOuzi-OHW5\"><span class=\"t_jb9bKlgIcajcRS2hZAP\">トラベル</span><span class=\"_2Uq6Pw5lfFfxr_OD36xHp6 _1dr5aVDbNPF63JCS2bJhij _3hg11aV8E6Xx541l0JOw85\" style=\"width:38px;height:38px\"></span></p></a>,\n",
       " <a aria-label=\"ヤフオク!へ遷移する\" class=\"yMWCYupQNdgppL-NV6sMi _3sAlKGsIBCxTUbNi86oSjt\" data-ylk=\"rsec:header;slk:auction;pos:0\" href=\"https://auctions.yahoo.co.jp/\"><p class=\"oLvk9L5Yk-9JOuzi-OHW5\"><span class=\"t_jb9bKlgIcajcRS2hZAP\">ヤフオク!</span><span class=\"_2Uq6Pw5lfFfxr_OD36xHp6 _1dr5aVDbNPF63JCS2bJhij _1K47f2oTmrnpusFOpVVqfY\" style=\"width:38px;height:38px\"></span></p></a>,\n",
       " <a aria-label=\"ショッピングへ遷移する\" class=\"yMWCYupQNdgppL-NV6sMi _3sAlKGsIBCxTUbNi86oSjt\" data-ylk=\"rsec:header;slk:shopping;pos:0\" href=\"https://shopping.yahoo.co.jp/?sc_e=ytmh\"><p class=\"oLvk9L5Yk-9JOuzi-OHW5\"><span class=\"t_jb9bKlgIcajcRS2hZAP\">ショッピング</span><span class=\"_2Uq6Pw5lfFfxr_OD36xHp6 _1dr5aVDbNPF63JCS2bJhij MOLSPrtOUmdnYy_LgNt2f\" style=\"width:38px;height:38px\"></span></p></a>,\n",
       " <a aria-label=\"ウェブで検索\" class=\"_33uErKrZG6jQv2aeVeGWGc\" href=\"https://search.yahoo.co.jp/\" tabindex=\"-1\"><span class=\"fQMqQTGJTbIMxjQwZA2zk _3tGRl6x9iIWRiFTkKl3kcR\"><span class=\"_1TCzQONRwuX9Joqzy35uo2 Y3FvSPVIJAsu5GBdHdiC8\">ウェブ</span></span></a>,\n",
       " <a aria-label=\"画像で検索\" class=\"_33uErKrZG6jQv2aeVeGWGc\" href=\"https://search.yahoo.co.jp/image\" tabindex=\"-1\"><span class=\"fQMqQTGJTbIMxjQwZA2zk _3tGRl6x9iIWRiFTkKl3kcR\"><span class=\"_1TCzQONRwuX9Joqzy35uo2\">画像</span></span></a>,\n",
       " <a aria-label=\"動画で検索\" class=\"_33uErKrZG6jQv2aeVeGWGc\" href=\"https://search.yahoo.co.jp/video\" tabindex=\"-1\"><span class=\"fQMqQTGJTbIMxjQwZA2zk _3tGRl6x9iIWRiFTkKl3kcR\"><span class=\"_1TCzQONRwuX9Joqzy35uo2\">動画</span></span></a>,\n",
       " <a aria-label=\"知恵袋で検索\" class=\"_33uErKrZG6jQv2aeVeGWGc\" href=\"https://chiebukuro.yahoo.co.jp/\" tabindex=\"-1\"><span class=\"fQMqQTGJTbIMxjQwZA2zk _3tGRl6x9iIWRiFTkKl3kcR\"><span class=\"_1TCzQONRwuX9Joqzy35uo2\">知恵袋</span></span></a>,\n",
       " <a aria-label=\"地図で検索\" class=\"_33uErKrZG6jQv2aeVeGWGc\" href=\"https://map.yahoo.co.jp/\" tabindex=\"-1\"><span class=\"fQMqQTGJTbIMxjQwZA2zk _3tGRl6x9iIWRiFTkKl3kcR\"><span class=\"_1TCzQONRwuX9Joqzy35uo2\">地図</span></span></a>,\n",
       " <a aria-label=\"リアルタイムで検索\" class=\"_33uErKrZG6jQv2aeVeGWGc\" href=\"https://search.yahoo.co.jp/realtime\" tabindex=\"-1\"><span class=\"fQMqQTGJTbIMxjQwZA2zk _3tGRl6x9iIWRiFTkKl3kcR\"><span class=\"_1TCzQONRwuX9Joqzy35uo2\">リアルタイム</span></span></a>,\n",
       " <a aria-label=\"その他\" class=\"_33uErKrZG6jQv2aeVeGWGc\" href=\"https://services.yahoo.co.jp/\" tabindex=\"-1\"><span class=\"fQMqQTGJTbIMxjQwZA2zk _3tGRl6x9iIWRiFTkKl3kcR\"><span class=\"_1TCzQONRwuX9Joqzy35uo2\">一覧</span></span></a>,\n",
       " <a class=\"_1NzGMsC3awTFzjzXnvX-zV\" data-ylk=\"rsec:message;slk:jsof;pos:0\" href=\"https://www.yahoo-help.jp/app/noscript\">JavaScriptの設定方法</a>,\n",
       " <a class=\"_1NzGMsC3awTFzjzXnvX-zV\" data-ylk=\"rsec:message;slk:cgrade;pos:0\" href=\"https://www.yahoo-help.jp/app/answers/detail/p/533/a_id/43883\">Internet Explorerの互換表示について</a>,\n",
       " <a class=\"yMWCYupQNdgppL-NV6sMi _3sAlKGsIBCxTUbNi86oSjt\" data-ylk=\"rsec:toplink;slk:link;pos:1;aid:1577061\" href=\"https://paypaymall.yahoo.co.jp/campaign/fukubukuro/?sc_e=yttl_pc_zozofukubukuro\"><span class=\"fQMqQTGJTbIMxjQwZA2zk _3tGRl6x9iIWRiFTkKl3kcR\"><span class=\"_3S2Wdrkt1LKANaWcLrZToT\">ZOZOPayPayモール店　お気に入りの福袋を探そう</span></span></a>,\n",
       " <a class=\"yMWCYupQNdgppL-NV6sMi _3sAlKGsIBCxTUbNi86oSjt\" data-ylk=\"rsec:toplink;slk:link;pos:2;aid:1577079\" href=\"https://toku.yahoo.co.jp/kimetubook202012/lot/?sc_e=yttl_ebj\"><span class=\"fQMqQTGJTbIMxjQwZA2zk _3tGRl6x9iIWRiFTkKl3kcR\"><span class=\"_3S2Wdrkt1LKANaWcLrZToT\">くじに挑戦　「鬼滅の刃」全巻セットが当たるチャンス</span></span></a>,\n",
       " <a aria-label=\"ショッピングへ遷移する\" class=\"yMWCYupQNdgppL-NV6sMi _3sAlKGsIBCxTUbNi86oSjt\" href=\"https://shopping.yahoo.co.jp/?sc_e=ytc\"><p class=\"_2bBRLhI5ZpVYu0tuHZEFrn\"><span class=\"pz0On1w4yAviBGMdKItoQ\"><span class=\"fQMqQTGJTbIMxjQwZA2zk _3tGRl6x9iIWRiFTkKl3kcR\">ショッピング</span></span><span class=\"_1Al3K70np2V_Ev1eGkfsBm\"><span class=\"_2Uq6Pw5lfFfxr_OD36xHp6 _1dr5aVDbNPF63JCS2bJhij MOLSPrtOUmdnYy_LgNt2f\" style=\"width:20px;height:20px\"></span></span></p></a>,\n",
       " <a aria-label=\"PayPayモールへ遷移する\" class=\"yMWCYupQNdgppL-NV6sMi _3sAlKGsIBCxTUbNi86oSjt\" href=\"https://paypaymall.yahoo.co.jp/?sc_e=ytc\"><p class=\"_2bBRLhI5ZpVYu0tuHZEFrn\"><span class=\"pz0On1w4yAviBGMdKItoQ\"><span class=\"fQMqQTGJTbIMxjQwZA2zk _3tGRl6x9iIWRiFTkKl3kcR\">PayPayモール</span></span><span class=\"_1Al3K70np2V_Ev1eGkfsBm\"><span class=\"_2Uq6Pw5lfFfxr_OD36xHp6 _1dr5aVDbNPF63JCS2bJhij _2aNXx7_xy-w5TRQtsAbLhN\" style=\"width:20px;height:20px\"></span></span></p></a>,\n",
       " <a aria-label=\"ヤフオク!へ遷移する\" class=\"yMWCYupQNdgppL-NV6sMi _3sAlKGsIBCxTUbNi86oSjt\" href=\"https://auctions.yahoo.co.jp\"><p class=\"_2bBRLhI5ZpVYu0tuHZEFrn\"><span class=\"pz0On1w4yAviBGMdKItoQ\"><span class=\"fQMqQTGJTbIMxjQwZA2zk _3tGRl6x9iIWRiFTkKl3kcR\">ヤフオク!</span></span><span class=\"_1Al3K70np2V_Ev1eGkfsBm\"><span class=\"_2Uq6Pw5lfFfxr_OD36xHp6 _1dr5aVDbNPF63JCS2bJhij _1K47f2oTmrnpusFOpVVqfY\" style=\"width:20px;height:20px\"></span></span></p></a>,\n",
       " <a aria-label=\"PayPayフリマへ遷移する\" class=\"yMWCYupQNdgppL-NV6sMi _3sAlKGsIBCxTUbNi86oSjt\" href=\"https://app.adjust.com/1kmi1m2?redirect=https%3A%2F%2Fpaypayfleamarket.yahoo.co.jp%2F%3Fcpt_s%3Dytopmedia%26cpt_m%3Dkotei%26cpt_n%3Dcontent%26cpt_c%3Dytopmedia\"><p class=\"_2bBRLhI5ZpVYu0tuHZEFrn\"><span class=\"pz0On1w4yAviBGMdKItoQ\"><span class=\"fQMqQTGJTbIMxjQwZA2zk _3tGRl6x9iIWRiFTkKl3kcR\">PayPayフリマ</span></span><span class=\"_1Al3K70np2V_Ev1eGkfsBm\"><span class=\"_2Uq6Pw5lfFfxr_OD36xHp6 _1dr5aVDbNPF63JCS2bJhij _3zb-zxOYGPoHJ2-_Ie8y8T\" style=\"width:20px;height:20px\"></span></span></p></a>,\n",
       " <a aria-label=\"ZOZOTOWNへ遷移する\" class=\"yMWCYupQNdgppL-NV6sMi _3sAlKGsIBCxTUbNi86oSjt\" href=\"https://zozo.jp/?utm_source=yahoo&amp;utm_medium=referral&amp;utm_campaign=web_ytop-leftcolumn\"><p class=\"_2bBRLhI5ZpVYu0tuHZEFrn\"><span class=\"pz0On1w4yAviBGMdKItoQ\"><span class=\"fQMqQTGJTbIMxjQwZA2zk _3tGRl6x9iIWRiFTkKl3kcR\">ZOZOTOWN</span></span><span class=\"_1Al3K70np2V_Ev1eGkfsBm\"><span class=\"_2Uq6Pw5lfFfxr_OD36xHp6 _1dr5aVDbNPF63JCS2bJhij _2VdNwkD_q8hjK0ZyvATgab\" style=\"width:20px;height:20px\"></span></span></p></a>,\n",
       " <a aria-label=\"LOHACOへ遷移する\" class=\"yMWCYupQNdgppL-NV6sMi _3sAlKGsIBCxTUbNi86oSjt\" href=\"https://lohaco.jp/?bk=t&amp;sc_e=j_as_ya_tc_n&amp;iscr=1\"><p class=\"_2bBRLhI5ZpVYu0tuHZEFrn\"><span class=\"pz0On1w4yAviBGMdKItoQ\"><span class=\"fQMqQTGJTbIMxjQwZA2zk _3tGRl6x9iIWRiFTkKl3kcR\">LOHACO</span></span><span class=\"_1Al3K70np2V_Ev1eGkfsBm\"><span class=\"_2Uq6Pw5lfFfxr_OD36xHp6 _1dr5aVDbNPF63JCS2bJhij _3xvmznkMqRitO0Iqn3ckur\" style=\"width:20px;height:20px\"></span></span></p></a>,\n",
       " <a aria-label=\"トラベルへ遷移する\" class=\"yMWCYupQNdgppL-NV6sMi _3sAlKGsIBCxTUbNi86oSjt\" href=\"https://travel.yahoo.co.jp/?sc_e=ytsl\"><p class=\"_2bBRLhI5ZpVYu0tuHZEFrn\"><span class=\"pz0On1w4yAviBGMdKItoQ\"><span class=\"fQMqQTGJTbIMxjQwZA2zk _3tGRl6x9iIWRiFTkKl3kcR\">トラベル</span></span><span class=\"_1Al3K70np2V_Ev1eGkfsBm\"><span class=\"_2Uq6Pw5lfFfxr_OD36xHp6 _1dr5aVDbNPF63JCS2bJhij _1yEKxUFSw-Xv2gaBZsYRuI\" style=\"width:20px;height:20px\"></span></span></p></a>,\n",
       " <a aria-label=\"一休.comへ遷移する\" class=\"yMWCYupQNdgppL-NV6sMi _3sAlKGsIBCxTUbNi86oSjt\" href=\"https://www.ikyu.com/ikCo.ashx?cosid=ik010002&amp;surl=%2F\"><p class=\"_2bBRLhI5ZpVYu0tuHZEFrn\"><span class=\"pz0On1w4yAviBGMdKItoQ\"><span class=\"fQMqQTGJTbIMxjQwZA2zk _3tGRl6x9iIWRiFTkKl3kcR\">一休.com</span></span><span class=\"_1Al3K70np2V_Ev1eGkfsBm\"><span class=\"_2Uq6Pw5lfFfxr_OD36xHp6 _1dr5aVDbNPF63JCS2bJhij daLkyi7PiGXeFyVYTU_9n\" style=\"width:20px;height:20px\"></span></span></p></a>,\n",
       " <a aria-label=\"一休.comレストランへ遷移する\" class=\"yMWCYupQNdgppL-NV6sMi _3sAlKGsIBCxTUbNi86oSjt\" href=\"https://restaurant.ikyu.com/rsCosite.asp?CosNo=10000175&amp;CosUrl=\"><p class=\"_2bBRLhI5ZpVYu0tuHZEFrn\"><span class=\"pz0On1w4yAviBGMdKItoQ\"><span class=\"fQMqQTGJTbIMxjQwZA2zk _3tGRl6x9iIWRiFTkKl3kcR\">一休.comレストラン</span></span><span class=\"_1Al3K70np2V_Ev1eGkfsBm\"><span class=\"_2Uq6Pw5lfFfxr_OD36xHp6 _1dr5aVDbNPF63JCS2bJhij _1z4Le4zkghapVZCQm9RCy8\" style=\"width:20px;height:20px\"></span></span></p></a>,\n",
       " <a aria-label=\"ニュースへ遷移する\" class=\"yMWCYupQNdgppL-NV6sMi _3sAlKGsIBCxTUbNi86oSjt\" href=\"https://news.yahoo.co.jp/\"><p class=\"_2bBRLhI5ZpVYu0tuHZEFrn\"><span class=\"pz0On1w4yAviBGMdKItoQ\"><span class=\"fQMqQTGJTbIMxjQwZA2zk _3tGRl6x9iIWRiFTkKl3kcR\">ニュース</span></span><span class=\"_1Al3K70np2V_Ev1eGkfsBm\"><span class=\"_2Uq6Pw5lfFfxr_OD36xHp6 _1dr5aVDbNPF63JCS2bJhij MV8kvbzLJ8HhdzIEBJ2Bv\" style=\"width:20px;height:20px\"></span></span></p></a>,\n",
       " <a aria-label=\"Yahoo! JAPANのサービス一覧\" class=\"yMWCYupQNdgppL-NV6sMi _3sAlKGsIBCxTUbNi86oSjt\" data-ylk=\"rsec:tool;slk:list;pos:0\" href=\"https://services.yahoo.co.jp/\"><dl class=\"STepvEgbaZ0rLEqfER-qm\"><dt class=\"W2bretj6vyf8QDes2gkQA\"><span class=\"fQMqQTGJTbIMxjQwZA2zk _3tGRl6x9iIWRiFTkKl3kcR\">サービス一覧</span></dt><dd class=\"_37zK--zuySKLzNE12rgdHL\"><span class=\"_2Uq6Pw5lfFfxr_OD36xHp6 _1dr5aVDbNPF63JCS2bJhij _3WrFs0ChLr_s9-gBqS7yts\" style=\"width:14px;height:14px\"></span></dd></dl></a>,\n",
       " <a class=\"yMWCYupQNdgppL-NV6sMi _3sAlKGsIBCxTUbNi86oSjt\" data-ual-gotocontent=\"true\" data-ylk=\"rsec:tpto;slk:title;pos:1;tpid:6378637;imgsize:s;cmt_num:92\" href=\"https://news.yahoo.co.jp/pickup/6378637\"><div class=\"_2cXD1uC4eaOih4-zkRgqjU\"><div class=\"TRuzXRRZHRqbqgLUCCco9\"><h1 class=\"_3cl937Zpn1ce8mDKd5kp7u\"><span class=\"fQMqQTGJTbIMxjQwZA2zk _3tGRl6x9iIWRiFTkKl3kcR\">道と大阪に自衛隊派遣へ 政府</span></h1><span class=\"_2obRU_TgAxzHaYqOXrZYlv\"><span class=\"h4yLXygiSc5wwNlJOQEdz _1dr5aVDbNPF63JCS2bJhij _2M3AyDfFaeJl3Uo7lUPMAp\" style=\"width:30px;height:12px\">NEW</span></span></div></div></a>,\n",
       " <a class=\"yMWCYupQNdgppL-NV6sMi _3sAlKGsIBCxTUbNi86oSjt\" data-ual-gotocontent=\"true\" data-ylk=\"rsec:tpto;slk:title;pos:2;tpid:6378622;imgsize:s;cmt_num:4454\" href=\"https://news.yahoo.co.jp/pickup/6378622\"><div class=\"_2cXD1uC4eaOih4-zkRgqjU\"><div class=\"TRuzXRRZHRqbqgLUCCco9\"><h1 class=\"_3cl937Zpn1ce8mDKd5kp7u\"><span class=\"fQMqQTGJTbIMxjQwZA2zk _3tGRl6x9iIWRiFTkKl3kcR\">内閣支持率が急落55.3% JNN</span></h1></div></div></a>,\n",
       " <a class=\"yMWCYupQNdgppL-NV6sMi _3sAlKGsIBCxTUbNi86oSjt\" data-ual-gotocontent=\"true\" data-ylk=\"rsec:tpto;slk:title;pos:3;tpid:6378634;imgsize:s;cmt_num:69\" href=\"https://news.yahoo.co.jp/pickup/6378634\"><div class=\"_2cXD1uC4eaOih4-zkRgqjU\"><div class=\"TRuzXRRZHRqbqgLUCCco9\"><h1 class=\"_3cl937Zpn1ce8mDKd5kp7u\"><span class=\"fQMqQTGJTbIMxjQwZA2zk _3tGRl6x9iIWRiFTkKl3kcR\">貨物船炎上 2人連絡取れず</span></h1><span class=\"_2obRU_TgAxzHaYqOXrZYlv\"><span class=\"h4yLXygiSc5wwNlJOQEdz _1dr5aVDbNPF63JCS2bJhij _2M3AyDfFaeJl3Uo7lUPMAp\" style=\"width:30px;height:12px\">NEW</span></span></div></div></a>,\n",
       " <a class=\"yMWCYupQNdgppL-NV6sMi _3sAlKGsIBCxTUbNi86oSjt\" data-ual-gotocontent=\"true\" data-ylk=\"rsec:tpto;slk:title;pos:4;tpid:6378626;imgsize:s;cmt_num:230\" href=\"https://news.yahoo.co.jp/pickup/6378626\"><div class=\"_2cXD1uC4eaOih4-zkRgqjU\"><div class=\"TRuzXRRZHRqbqgLUCCco9\"><h1 class=\"_3cl937Zpn1ce8mDKd5kp7u\"><span class=\"fQMqQTGJTbIMxjQwZA2zk _3tGRl6x9iIWRiFTkKl3kcR\">ICOCA 混雑回避で還元を検討</span></h1></div></div></a>,\n",
       " <a class=\"yMWCYupQNdgppL-NV6sMi _3sAlKGsIBCxTUbNi86oSjt\" data-ual-gotocontent=\"true\" data-ylk=\"rsec:tpto;slk:title;pos:5;tpid:6378617;imgsize:s;cmt_num:45\" href=\"https://news.yahoo.co.jp/pickup/6378617\"><div class=\"_2cXD1uC4eaOih4-zkRgqjU\"><div class=\"TRuzXRRZHRqbqgLUCCco9\"><h1 class=\"_3cl937Zpn1ce8mDKd5kp7u\"><span class=\"fQMqQTGJTbIMxjQwZA2zk _3tGRl6x9iIWRiFTkKl3kcR\">コロナ禍 仕事減る公認サンタ</span></h1><span class=\"_2obRU_TgAxzHaYqOXrZYlv\"><span class=\"h4yLXygiSc5wwNlJOQEdz _1dr5aVDbNPF63JCS2bJhij _2M3AyDfFaeJl3Uo7lUPMAp\" style=\"width:30px;height:12px\">NEW</span></span></div></div></a>,\n",
       " <a class=\"yMWCYupQNdgppL-NV6sMi _3sAlKGsIBCxTUbNi86oSjt\" data-ual-gotocontent=\"true\" data-ylk=\"rsec:tpto;slk:title;pos:6;tpid:6378624;imgsize:s;cmt_num:1660\" href=\"https://news.yahoo.co.jp/pickup/6378624\"><div class=\"_2cXD1uC4eaOih4-zkRgqjU\"><div class=\"TRuzXRRZHRqbqgLUCCco9\"><h1 class=\"_3cl937Zpn1ce8mDKd5kp7u\"><span class=\"fQMqQTGJTbIMxjQwZA2zk _3tGRl6x9iIWRiFTkKl3kcR\">新庄氏参戦 トライアウト開始</span></h1></div></div></a>,\n",
       " <a class=\"yMWCYupQNdgppL-NV6sMi _3sAlKGsIBCxTUbNi86oSjt\" data-ual-gotocontent=\"true\" data-ylk=\"rsec:tpto;slk:title;pos:7;tpid:6378639;imgsize:s;cmt_num:334\" href=\"https://news.yahoo.co.jp/pickup/6378639\"><div class=\"_2cXD1uC4eaOih4-zkRgqjU\"><div class=\"TRuzXRRZHRqbqgLUCCco9\"><h1 class=\"_3cl937Zpn1ce8mDKd5kp7u\"><span class=\"fQMqQTGJTbIMxjQwZA2zk _3tGRl6x9iIWRiFTkKl3kcR\">手越祐也のYouTube なぜ成功</span></h1><span class=\"_2obRU_TgAxzHaYqOXrZYlv\"><span class=\"h4yLXygiSc5wwNlJOQEdz _1dr5aVDbNPF63JCS2bJhij _2M3AyDfFaeJl3Uo7lUPMAp\" style=\"width:30px;height:12px\">NEW</span></span></div></div></a>,\n",
       " <a class=\"yMWCYupQNdgppL-NV6sMi _3sAlKGsIBCxTUbNi86oSjt\" data-ual-gotocontent=\"true\" data-ylk=\"rsec:tpto;slk:title;pos:8;tpid:6378631;imgsize:s;cmt_num:425\" href=\"https://news.yahoo.co.jp/pickup/6378631\"><div class=\"_2cXD1uC4eaOih4-zkRgqjU\"><div class=\"TRuzXRRZHRqbqgLUCCco9\"><h1 class=\"_3cl937Zpn1ce8mDKd5kp7u\"><span class=\"fQMqQTGJTbIMxjQwZA2zk _3tGRl6x9iIWRiFTkKl3kcR\">具志堅 愛犬グスマンとの別れ</span></h1></div></div></a>,\n",
       " <a class=\"yMWCYupQNdgppL-NV6sMi _3sAlKGsIBCxTUbNi86oSjt\" data-ylk=\"rsec:tpto;slk:title;pos:9;imgsize:l\" href=\"https://headlines.yahoo.co.jp/hl?a=20201207-00010001-mjikenbo-l44.view-000\"><div class=\"_1EYwdR4JxrwgpIvWk7vO3f\"><h1 class=\"RS4h_eDWC6FIIyYMupWR0\"><span class=\"fQMqQTGJTbIMxjQwZA2zk _3tGRl6x9iIWRiFTkKl3kcR\">愛らしい縁起物</span></h1><p class=\"_2e8OreFgYIc3gdzYJLKAMA\"><time class=\"_1GD9Sx7FpCs4EuL3bT974r\">12/7(月) 12:16</time></p><div><cite class=\"O9jggTRv0zy3XcPayfJLa\">大分合同新聞</cite></div><div class=\"_1UmUawjY6VSzmTK3Y-1sjq\"><span class=\"rStpk9W4eUO5IMVhnJylj _9lUaMh5eQv_w-n4J18isw\"><img alt=\"\" height=\"67.98245614035088\" src=\"https://news-pctr.c.yimg.jp/r/iwiz-tpc/images/tpc/2020/12/7/2a23ce1b9345617f0a321195353316d0de03e99e3d9b305ed8df2082f1e0c86a.jpg?h=200&amp;w=200&amp;pri=l\" width=\"100\"/></span></div></div></a>,\n",
       " <a class=\"yMWCYupQNdgppL-NV6sMi _3sAlKGsIBCxTUbNi86oSjt\" data-ylk=\"rsec:tpto;slk:more;pos:0\" href=\"https://news.yahoo.co.jp/topics/top-picks\">もっと見る</a>,\n",
       " <a class=\"yMWCYupQNdgppL-NV6sMi _3sAlKGsIBCxTUbNi86oSjt\" data-ylk=\"rsec:tpto;slk:list;pos:0\" href=\"https://news.yahoo.co.jp/topics\">トピックス一覧</a>,\n",
       " <a class=\"yMWCYupQNdgppL-NV6sMi _3sAlKGsIBCxTUbNi86oSjt\" data-ylk=\"rsec:personal;slk:login;pos:0\" href=\"https://login.yahoo.co.jp/config/login?.src=www&amp;.done=https://www.yahoo.co.jp/\"><span class=\"fQMqQTGJTbIMxjQwZA2zk _3tGRl6x9iIWRiFTkKl3kcR\">ログイン</span></a>,\n",
       " <a class=\"yMWCYupQNdgppL-NV6sMi _3sAlKGsIBCxTUbNi86oSjt\" data-ylk=\"rsec:personal;slk:reg;pos:0\" href=\"https://account.edit.yahoo.co.jp/registration?.src=www&amp;.done=https://www.yahoo.co.jp/\"><span class=\"_1mkb9myOuisBstoCqO0Hqs\">ID新規取得</span></a>,\n",
       " <a class=\"yMWCYupQNdgppL-NV6sMi _3sAlKGsIBCxTUbNi86oSjt\" data-ylk=\"rsec:personal;slk:profile;pos:0\" href=\"https://login.yahoo.co.jp/config/login?.src=www&amp;.done=https%3A%2F%2Faccounts.yahoo.co.jp%2Fprofile%3F.done%3Dhttps%253A%252F%252Fwww.yahoo.co.jp%252F%253F.src%253Dwww%2526t_cushion%253D1\"><p class=\"_2KSAVmekATGu43KySZB31Z _39bsyXI766slVaQ8YaCP7e\">登録情報</p></a>,\n",
       " <a aria-label=\"メール\" class=\"yMWCYupQNdgppL-NV6sMi _3sAlKGsIBCxTUbNi86oSjt\" data-ylk=\"rsec:personal;slk:mail;pos:0\" href=\"https://mail.yahoo.co.jp/\"><dl class=\"NhCWhleHpZ0CADioxObVu\"><dt class=\"_3KpLuhOuze7bsGr1VOVvCU\"><span class=\"_2Uq6Pw5lfFfxr_OD36xHp6 _1dr5aVDbNPF63JCS2bJhij _3Qi5P0lTFbNkWishPzz8tb\" style=\"width:34px;height:28px\">メール</span></dt><dd class=\"_1CLgF9dk2PVVFQFnko3vN0\"><span class=\"fQMqQTGJTbIMxjQwZA2zk DB1xWkV-AiF3oBGL1BuYd\">メール</span></dd></dl></a>,\n",
       " <a aria-label=\"ポイント確認\" class=\"yMWCYupQNdgppL-NV6sMi _3sAlKGsIBCxTUbNi86oSjt\" data-ylk=\"rsec:personal;slk:point;pos:0;badge:off\" href=\"https://points.yahoo.co.jp/\"><dl class=\"NhCWhleHpZ0CADioxObVu\"><dt class=\"_3KpLuhOuze7bsGr1VOVvCU\"><span class=\"_2Uq6Pw5lfFfxr_OD36xHp6 _1dr5aVDbNPF63JCS2bJhij _2bzYtaEVOOQInqzAcQ1cme\" style=\"width:28px;height:28px\">Ｔポイント</span></dt><dd class=\"_1CLgF9dk2PVVFQFnko3vN0\"><span class=\"fQMqQTGJTbIMxjQwZA2zk DB1xWkV-AiF3oBGL1BuYd\">ポイント確認</span></dd></dl></a>,\n",
       " <a aria-label=\"PayPay残高確認\" class=\"yMWCYupQNdgppL-NV6sMi _3sAlKGsIBCxTUbNi86oSjt\" data-ylk=\"rsec:personal;slk:paypay;pos:0;badge:off\" href=\"https://wallet.yahoo.co.jp/paypay/balance?.done=https%3A%2F%2Fwww.yahoo.co.jp%2F&amp;.bail=https%3A%2F%2Fwww.yahoo.co.jp%2F&amp;.linkdisp=1&amp;sc_e=ywww_pp_top_pc1\"><dl class=\"NhCWhleHpZ0CADioxObVu\"><dt class=\"_3KpLuhOuze7bsGr1VOVvCU\"><span class=\"_2Uq6Pw5lfFfxr_OD36xHp6 _1dr5aVDbNPF63JCS2bJhij _2288dlil4Nkm3lO8Sm3hDU\" style=\"width:28px;height:28px\">PayPay</span></dt><dd class=\"_1CLgF9dk2PVVFQFnko3vN0\"><span class=\"fQMqQTGJTbIMxjQwZA2zk DB1xWkV-AiF3oBGL1BuYd\">PayPay残高確認</span></dd></dl></a>,\n",
       " <a aria-label=\"今日の日付は2020年12月7日　月曜日\" class=\"yMWCYupQNdgppL-NV6sMi _3sAlKGsIBCxTUbNi86oSjt\" data-ylk=\"rsec:today;slk:date;pos:0\" href=\"https://calendar.yahoo.co.jp\"><span class=\"fQMqQTGJTbIMxjQwZA2zk _3tGRl6x9iIWRiFTkKl3kcR\"><time class=\"_39pIdCsxycrMrZfr-69cAP\" datetime=\"2020-12-07T04:01:20.000Z\">2020年12月7日(月)</time></span></a>,\n",
       " <a class=\"yMWCYupQNdgppL-NV6sMi _3sAlKGsIBCxTUbNi86oSjt\" data-ylk=\"rsec:ybb;slk:id;pos:0\" href=\"https://ybb.yahoo.co.jp/hikitsugi/\">Yahoo! BB用IDの変更</a>,\n",
       " <a class=\"yMWCYupQNdgppL-NV6sMi _3sAlKGsIBCxTUbNi86oSjt\" data-ylk=\"rsec:ybb;slk:procedure;pos:0\" href=\"https://ybb.softbank.jp/support/member/\"><span class=\"fQMqQTGJTbIMxjQwZA2zk _3tGRl6x9iIWRiFTkKl3kcR\">各種お手続き</span></a>,\n",
       " <a class=\"yMWCYupQNdgppL-NV6sMi _3sAlKGsIBCxTUbNi86oSjt\" data-ylk=\"rsec:ybb;slk:benefit;pos:0\" href=\"https://bbservice.yahoo.co.jp/\"><span class=\"fQMqQTGJTbIMxjQwZA2zk _3tGRl6x9iIWRiFTkKl3kcR\">会員特典</span></a>,\n",
       " <a class=\"yMWCYupQNdgppL-NV6sMi _3sAlKGsIBCxTUbNi86oSjt\" data-ylk=\"rsec:ybb;slk:option;pos:0\" href=\"https://www.softbank.jp/ybb/option/#/\"><span class=\"fQMqQTGJTbIMxjQwZA2zk _3tGRl6x9iIWRiFTkKl3kcR\">オプションサービス追加</span></a>,\n",
       " <a class=\"yMWCYupQNdgppL-NV6sMi _3sAlKGsIBCxTUbNi86oSjt\" data-ylk=\"rsec:ybb;slk:guide;pos:0\" href=\"https://www.softbank.jp/ybb/member/guide/\"><span class=\"fQMqQTGJTbIMxjQwZA2zk _3tGRl6x9iIWRiFTkKl3kcR\">使い方ガイド</span></a>,\n",
       " <a class=\"yMWCYupQNdgppL-NV6sMi _3sAlKGsIBCxTUbNi86oSjt\" data-ylk=\"rsec:ybb;slk:info;pos:0\" href=\"https://www.softbank.jp/ybb/info/maintenance/\"><span class=\"fQMqQTGJTbIMxjQwZA2zk _3tGRl6x9iIWRiFTkKl3kcR\">障害・メンテナンス情報</span></a>,\n",
       " <a class=\"yMWCYupQNdgppL-NV6sMi _3sAlKGsIBCxTUbNi86oSjt\" data-ylk=\"rsec:ybb;slk:support;pos:0\" href=\"http://ybb.softbank.jp/support/\"><span class=\"fQMqQTGJTbIMxjQwZA2zk _3tGRl6x9iIWRiFTkKl3kcR\">お客様サポート</span></a>,\n",
       " <a class=\"yMWCYupQNdgppL-NV6sMi _3sAlKGsIBCxTUbNi86oSjt\" data-ylk=\"rsec:footer;slk:comp;pos:0\" href=\"https://about.yahoo.co.jp/\">会社概要</a>,\n",
       " <a class=\"yMWCYupQNdgppL-NV6sMi _3sAlKGsIBCxTUbNi86oSjt\" data-ylk=\"rsec:footer;slk:soc;pos:0\" href=\"https://about.yahoo.co.jp/csr/\">社会的責任</a>,\n",
       " <a class=\"yMWCYupQNdgppL-NV6sMi _3sAlKGsIBCxTUbNi86oSjt\" data-ylk=\"rsec:footer;slk:ad;pos:0\" href=\"https://marketing.yahoo.co.jp/\">広告掲載について</a>,\n",
       " <a class=\"yMWCYupQNdgppL-NV6sMi _3sAlKGsIBCxTUbNi86oSjt\" data-ylk=\"rsec:footer;slk:hr;pos:0\" href=\"https://about.yahoo.co.jp/hr/\">採用情報</a>,\n",
       " <a class=\"yMWCYupQNdgppL-NV6sMi _3sAlKGsIBCxTUbNi86oSjt\" data-ylk=\"rsec:footer;slk:agreement;pos:0\" href=\"https://about.yahoo.co.jp/common/terms/\">利用規約</a>,\n",
       " <a class=\"yMWCYupQNdgppL-NV6sMi _3sAlKGsIBCxTUbNi86oSjt\" data-ylk=\"rsec:footer;slk:disc;pos:0\" href=\"https://about.yahoo.co.jp/common/disclaimer/\">免責事項</a>,\n",
       " <a class=\"yMWCYupQNdgppL-NV6sMi _3sAlKGsIBCxTUbNi86oSjt\" data-ylk=\"rsec:footer;slk:state;pos:0\" href=\"https://about.yahoo.co.jp/common/mediastatement/\">メディアステートメント</a>,\n",
       " <a class=\"yMWCYupQNdgppL-NV6sMi _3sAlKGsIBCxTUbNi86oSjt\" data-ylk=\"rsec:footer;slk:policy;pos:0\" href=\"https://privacy.yahoo.co.jp/\">プライバシー</a>,\n",
       " <a class=\"yMWCYupQNdgppL-NV6sMi _3sAlKGsIBCxTUbNi86oSjt\" data-ylk=\"rsec:footer;slk:z_comp;pos:0\" href=\"https://www.z-holdings.co.jp/\">会社概要</a>,\n",
       " <a class=\"yMWCYupQNdgppL-NV6sMi _3sAlKGsIBCxTUbNi86oSjt\" data-ylk=\"rsec:footer;slk:ir;pos:0\" href=\"https://www.z-holdings.co.jp/ir/\">投資家情報</a>]"
      ]
     },
     "execution_count": 6,
     "metadata": {},
     "output_type": "execute_result"
    }
   ],
   "source": [
    "elems"
   ]
  },
  {
   "cell_type": "code",
   "execution_count": 7,
   "metadata": {},
   "outputs": [],
   "source": [
    "import re"
   ]
  },
  {
   "cell_type": "code",
   "execution_count": null,
   "metadata": {},
   "outputs": [],
   "source": []
  },
  {
   "cell_type": "code",
   "execution_count": 8,
   "metadata": {},
   "outputs": [],
   "source": [
    "elems=soup.find_all(href=re.compile(\"news.yahoo.co.jp/pickup\"))"
   ]
  },
  {
   "cell_type": "code",
   "execution_count": 9,
   "metadata": {},
   "outputs": [
    {
     "data": {
      "text/plain": [
       "[<a class=\"yMWCYupQNdgppL-NV6sMi _3sAlKGsIBCxTUbNi86oSjt\" data-ual-gotocontent=\"true\" data-ylk=\"rsec:tpto;slk:title;pos:1;tpid:6378637;imgsize:s;cmt_num:92\" href=\"https://news.yahoo.co.jp/pickup/6378637\"><div class=\"_2cXD1uC4eaOih4-zkRgqjU\"><div class=\"TRuzXRRZHRqbqgLUCCco9\"><h1 class=\"_3cl937Zpn1ce8mDKd5kp7u\"><span class=\"fQMqQTGJTbIMxjQwZA2zk _3tGRl6x9iIWRiFTkKl3kcR\">道と大阪に自衛隊派遣へ 政府</span></h1><span class=\"_2obRU_TgAxzHaYqOXrZYlv\"><span class=\"h4yLXygiSc5wwNlJOQEdz _1dr5aVDbNPF63JCS2bJhij _2M3AyDfFaeJl3Uo7lUPMAp\" style=\"width:30px;height:12px\">NEW</span></span></div></div></a>,\n",
       " <a class=\"yMWCYupQNdgppL-NV6sMi _3sAlKGsIBCxTUbNi86oSjt\" data-ual-gotocontent=\"true\" data-ylk=\"rsec:tpto;slk:title;pos:2;tpid:6378622;imgsize:s;cmt_num:4454\" href=\"https://news.yahoo.co.jp/pickup/6378622\"><div class=\"_2cXD1uC4eaOih4-zkRgqjU\"><div class=\"TRuzXRRZHRqbqgLUCCco9\"><h1 class=\"_3cl937Zpn1ce8mDKd5kp7u\"><span class=\"fQMqQTGJTbIMxjQwZA2zk _3tGRl6x9iIWRiFTkKl3kcR\">内閣支持率が急落55.3% JNN</span></h1></div></div></a>,\n",
       " <a class=\"yMWCYupQNdgppL-NV6sMi _3sAlKGsIBCxTUbNi86oSjt\" data-ual-gotocontent=\"true\" data-ylk=\"rsec:tpto;slk:title;pos:3;tpid:6378634;imgsize:s;cmt_num:69\" href=\"https://news.yahoo.co.jp/pickup/6378634\"><div class=\"_2cXD1uC4eaOih4-zkRgqjU\"><div class=\"TRuzXRRZHRqbqgLUCCco9\"><h1 class=\"_3cl937Zpn1ce8mDKd5kp7u\"><span class=\"fQMqQTGJTbIMxjQwZA2zk _3tGRl6x9iIWRiFTkKl3kcR\">貨物船炎上 2人連絡取れず</span></h1><span class=\"_2obRU_TgAxzHaYqOXrZYlv\"><span class=\"h4yLXygiSc5wwNlJOQEdz _1dr5aVDbNPF63JCS2bJhij _2M3AyDfFaeJl3Uo7lUPMAp\" style=\"width:30px;height:12px\">NEW</span></span></div></div></a>,\n",
       " <a class=\"yMWCYupQNdgppL-NV6sMi _3sAlKGsIBCxTUbNi86oSjt\" data-ual-gotocontent=\"true\" data-ylk=\"rsec:tpto;slk:title;pos:4;tpid:6378626;imgsize:s;cmt_num:230\" href=\"https://news.yahoo.co.jp/pickup/6378626\"><div class=\"_2cXD1uC4eaOih4-zkRgqjU\"><div class=\"TRuzXRRZHRqbqgLUCCco9\"><h1 class=\"_3cl937Zpn1ce8mDKd5kp7u\"><span class=\"fQMqQTGJTbIMxjQwZA2zk _3tGRl6x9iIWRiFTkKl3kcR\">ICOCA 混雑回避で還元を検討</span></h1></div></div></a>,\n",
       " <a class=\"yMWCYupQNdgppL-NV6sMi _3sAlKGsIBCxTUbNi86oSjt\" data-ual-gotocontent=\"true\" data-ylk=\"rsec:tpto;slk:title;pos:5;tpid:6378617;imgsize:s;cmt_num:45\" href=\"https://news.yahoo.co.jp/pickup/6378617\"><div class=\"_2cXD1uC4eaOih4-zkRgqjU\"><div class=\"TRuzXRRZHRqbqgLUCCco9\"><h1 class=\"_3cl937Zpn1ce8mDKd5kp7u\"><span class=\"fQMqQTGJTbIMxjQwZA2zk _3tGRl6x9iIWRiFTkKl3kcR\">コロナ禍 仕事減る公認サンタ</span></h1><span class=\"_2obRU_TgAxzHaYqOXrZYlv\"><span class=\"h4yLXygiSc5wwNlJOQEdz _1dr5aVDbNPF63JCS2bJhij _2M3AyDfFaeJl3Uo7lUPMAp\" style=\"width:30px;height:12px\">NEW</span></span></div></div></a>,\n",
       " <a class=\"yMWCYupQNdgppL-NV6sMi _3sAlKGsIBCxTUbNi86oSjt\" data-ual-gotocontent=\"true\" data-ylk=\"rsec:tpto;slk:title;pos:6;tpid:6378624;imgsize:s;cmt_num:1660\" href=\"https://news.yahoo.co.jp/pickup/6378624\"><div class=\"_2cXD1uC4eaOih4-zkRgqjU\"><div class=\"TRuzXRRZHRqbqgLUCCco9\"><h1 class=\"_3cl937Zpn1ce8mDKd5kp7u\"><span class=\"fQMqQTGJTbIMxjQwZA2zk _3tGRl6x9iIWRiFTkKl3kcR\">新庄氏参戦 トライアウト開始</span></h1></div></div></a>,\n",
       " <a class=\"yMWCYupQNdgppL-NV6sMi _3sAlKGsIBCxTUbNi86oSjt\" data-ual-gotocontent=\"true\" data-ylk=\"rsec:tpto;slk:title;pos:7;tpid:6378639;imgsize:s;cmt_num:334\" href=\"https://news.yahoo.co.jp/pickup/6378639\"><div class=\"_2cXD1uC4eaOih4-zkRgqjU\"><div class=\"TRuzXRRZHRqbqgLUCCco9\"><h1 class=\"_3cl937Zpn1ce8mDKd5kp7u\"><span class=\"fQMqQTGJTbIMxjQwZA2zk _3tGRl6x9iIWRiFTkKl3kcR\">手越祐也のYouTube なぜ成功</span></h1><span class=\"_2obRU_TgAxzHaYqOXrZYlv\"><span class=\"h4yLXygiSc5wwNlJOQEdz _1dr5aVDbNPF63JCS2bJhij _2M3AyDfFaeJl3Uo7lUPMAp\" style=\"width:30px;height:12px\">NEW</span></span></div></div></a>,\n",
       " <a class=\"yMWCYupQNdgppL-NV6sMi _3sAlKGsIBCxTUbNi86oSjt\" data-ual-gotocontent=\"true\" data-ylk=\"rsec:tpto;slk:title;pos:8;tpid:6378631;imgsize:s;cmt_num:425\" href=\"https://news.yahoo.co.jp/pickup/6378631\"><div class=\"_2cXD1uC4eaOih4-zkRgqjU\"><div class=\"TRuzXRRZHRqbqgLUCCco9\"><h1 class=\"_3cl937Zpn1ce8mDKd5kp7u\"><span class=\"fQMqQTGJTbIMxjQwZA2zk _3tGRl6x9iIWRiFTkKl3kcR\">具志堅 愛犬グスマンとの別れ</span></h1></div></div></a>]"
      ]
     },
     "execution_count": 9,
     "metadata": {},
     "output_type": "execute_result"
    }
   ],
   "source": [
    "elems"
   ]
  },
  {
   "cell_type": "code",
   "execution_count": 14,
   "metadata": {},
   "outputs": [
    {
     "data": {
      "text/plain": [
       "'道と大阪に自衛隊派遣へ 政府'"
      ]
     },
     "execution_count": 14,
     "metadata": {},
     "output_type": "execute_result"
    }
   ],
   "source": [
    "elems[0].span.string"
   ]
  },
  {
   "cell_type": "code",
   "execution_count": 11,
   "metadata": {},
   "outputs": [
    {
     "data": {
      "text/plain": [
       "'https://news.yahoo.co.jp/pickup/6378637'"
      ]
     },
     "execution_count": 11,
     "metadata": {},
     "output_type": "execute_result"
    }
   ],
   "source": [
    "elems[0].attrs[\"href\"]"
   ]
  },
  {
   "cell_type": "code",
   "execution_count": 12,
   "metadata": {},
   "outputs": [
    {
     "data": {
      "text/plain": [
       "'https://news.yahoo.co.jp/pickup/6378622'"
      ]
     },
     "execution_count": 12,
     "metadata": {},
     "output_type": "execute_result"
    }
   ],
   "source": [
    "elems[1].attrs[\"href\"]"
   ]
  },
  {
   "cell_type": "code",
   "execution_count": 15,
   "metadata": {},
   "outputs": [
    {
     "name": "stdout",
     "output_type": "stream",
     "text": [
      "道と大阪に自衛隊派遣へ 政府\n",
      "https://news.yahoo.co.jp/pickup/6378637\n",
      "内閣支持率が急落55.3% JNN\n",
      "https://news.yahoo.co.jp/pickup/6378622\n",
      "貨物船炎上 2人連絡取れず\n",
      "https://news.yahoo.co.jp/pickup/6378634\n",
      "ICOCA 混雑回避で還元を検討\n",
      "https://news.yahoo.co.jp/pickup/6378626\n",
      "コロナ禍 仕事減る公認サンタ\n",
      "https://news.yahoo.co.jp/pickup/6378617\n",
      "新庄氏参戦 トライアウト開始\n",
      "https://news.yahoo.co.jp/pickup/6378624\n",
      "手越祐也のYouTube なぜ成功\n",
      "https://news.yahoo.co.jp/pickup/6378639\n",
      "具志堅 愛犬グスマンとの別れ\n",
      "https://news.yahoo.co.jp/pickup/6378631\n"
     ]
    }
   ],
   "source": [
    "for elem in elems:\n",
    "    print(elem.span.string)\n",
    "    print(elem.attrs[\"href\"])"
   ]
  },
  {
   "cell_type": "code",
   "execution_count": 23,
   "metadata": {},
   "outputs": [
    {
     "name": "stdout",
     "output_type": "stream",
     "text": [
      "['https://news.yahoo.co.jp/pickup/6378637', 'https://news.yahoo.co.jp/pickup/6378622', 'https://news.yahoo.co.jp/pickup/6378634', 'https://news.yahoo.co.jp/pickup/6378626', 'https://news.yahoo.co.jp/pickup/6378617', 'https://news.yahoo.co.jp/pickup/6378624', 'https://news.yahoo.co.jp/pickup/6378639', 'https://news.yahoo.co.jp/pickup/6378631']\n"
     ]
    }
   ],
   "source": [
    "pickup_links = [elem.attrs[\"href\"] for elem in elems]\n",
    "print (pickup_links)"
   ]
  },
  {
   "cell_type": "code",
   "execution_count": 26,
   "metadata": {},
   "outputs": [
    {
     "name": "stdout",
     "output_type": "stream",
     "text": [
      "https://headlines.yahoo.co.jp/hl?a=20201207-00000036-jij-pol\n",
      "政府、北海道と大阪に自衛隊派遣へ　菅首相「病床逼迫に危機感」　新型コロナ（時事通信） - Yahoo!ニュース\n",
      "https://headlines.yahoo.co.jp/hl?a=20201207-00000036-jij-pol\n",
      "　菅義偉首相は7日の政府・与党連絡会議で、新型コロナウイルス感染拡大に関し、「重症者向けの病床が逼迫（ひっぱく）しており、強い危機感を持って対応している」とした上で、「自治体からの要請があれば自衛隊を直ちに派遣できる体制を整えており、最大限の支援を行っていく」と表明した。\n",
      "\n",
      "【グラフ】新型コロナウイルス 都道府県別感染者数・死者数\n",
      "\n",
      "　政府は北海道と大阪府に対し、近く自衛隊の医官・看護官を派遣する方針だ。\n",
      "\n",
      "　加藤勝信官房長官はこれに先立つ記者会見で「大阪府、北海道と緊密に連携し、重症者や死亡者の発生を食い止めるため、感染拡大の防止に全力で取り組む」と強調した。　\n",
      "\n",
      "\n",
      "https://headlines.yahoo.co.jp/hl?a=20201207-00000007-jnn-pol\n",
      "ＪＮＮ世論調査、内閣支持率１１．５ポイント急落（TBS系（JNN）） - Yahoo!ニュース\n",
      "https://headlines.yahoo.co.jp/hl?a=20201207-00000007-jnn-pol\n",
      "　最新のＪＮＮの世論調査で、菅内閣の支持率は先月より１１．５ポイント下落し、５５．３％となりました。\n",
      "\n",
      "　菅内閣を支持できるという人は、先月の調査結果より１１．５ポイント減って５５．３％でした。一方、支持できないという人は１２．９ポイント増加し、４１．１％でした。調査方法が異なるため単純に比較はできませんが、これは２０１３年１２月調査以来７年ぶりの支持率の下げ幅となります。\n",
      " \n",
      "　新型コロナウイルスの感染防止に向けた政府のこれまでの取り組みについて聞いたところ、「評価する」は３９％、「評価しない」は４９％と「評価しない」が上回りました。\n",
      " \n",
      "　ＧｏＴｏトラベルキャンペーンをめぐり、政府は感染拡大地域を目的地とする旅行を除外するなどの見直しを決めましたが、この方針を「妥当だと思う」人は６８％にのぼりました。一方、政府は現時点では再度の緊急事態宣言を出す状況にはないとしていますが、この認識を「支持する」人は３７％、「支持しない」は５３％でした。\n",
      " \n",
      "　政府が感染防止と経済活動、どちらを優先した政策をとるべきか聞いたところ、「どちらかといえば」をあわせると「感染防止」と答えた人が７１％に達しています。\n",
      " \n",
      "　新型コロナのワクチンについて聞きました。政府は国が全額負担したうえで来年前半までに全国民に行き渡るようにするとしていますが、こうしたワクチンを「接種したい」と答えた人は５２％、「接種したくない」人は３７％でした。\n",
      " \n",
      "　「桜を見る会」の前夜祭をめぐり、安倍事務所が費用の一部を補填した疑いが出ていますが、これまでの安倍前総理の説明に「納得できる」と答えた人は１０％にとどまり、「納得できない」が７６％にのぼりました。また、この問題に関して菅総理に「説明責任がある」と答えた人は５４％、「説明責任はない」と答えた人は３７％でした。（07日02:50）\n",
      "\n",
      "\n",
      "https://headlines.yahoo.co.jp/hl?a=20201207-00216208-fnn-soci\n",
      "【速報】貨物船炎上 2人連絡とれず　広島 瀬戸内海で（フジテレビ系（FNN）） - Yahoo!ニュース\n",
      "https://headlines.yahoo.co.jp/hl?a=20201207-00216208-fnn-soci\n",
      "7日朝早く、広島・大崎上島町の沖合の瀬戸内海で、広島市の貨物船「福井丸」が炎上。\n",
      "\n",
      "午前11時半現在も、海上保安部の巡視艇や消防艇が消火活動を行っている。\n",
      "\n",
      "貨物船に乗船しているとみられる、男性2人と連絡がとれないということで、海上保安部が確認を急いでいる。\n",
      "\n",
      "\n",
      "https://headlines.yahoo.co.jp/hl?a=20201207-00000006-asahi-bus_all\n",
      "ICOCA、ラッシュ避ければポイント還元検討　JR西（朝日新聞デジタル） - Yahoo!ニュース\n",
      "https://headlines.yahoo.co.jp/hl?a=20201207-00000006-asahi-bus_all\n",
      "　JR西日本が同社のICカード「ICOCA（イコカ）」の定期券利用者に、ラッシュ時間帯を避けて乗車すれば、運賃や買い物に使えるポイントを還元する検討をしていることが分かった。コロナ禍を受け、通勤通学客の分散を促すねらい。早ければ来春にも試行を始める。\n",
      "\n",
      "【図解】Suicaでもポイント還元　オフピーク乗車など想定\n",
      "\n",
      "　長谷川一明社長が朝日新聞のインタビューで検討を明かした。朝の混雑が激しい京阪神地区などを想定し、まず期間を限定した実験を始める。定期券でないICOCAでは、日中の時間帯に一定区間を乗車すれば、月4回目以降にポイントを還元する制度がすでにあり、この仕組みを活用するという。ポイントは、駅の自動券売機で手続きをすれば、ICOCAと同じように運賃や商業施設での買い物として使える。\n",
      "\n",
      "　乗客の分散ができれば、ラッシュ時に数を増やしている車両や駅員を減らせる。長谷川社長は「コロナ対策、乗客の快適さだけでなく、コスト削減にもつながる」と語った。時間帯別で運賃に差をつける制度の将来的な導入も視野に入れているという。\n",
      "\n",
      "　JRでは、東日本も来春から「Suica（スイカ）」を使った同様のポイント還元を始める予定。大阪メトロの河井英明社長も今月、「御堂筋線などの混雑緩和をしたい」として、時間帯に応じたポイント還元の検討を始めたことを公表している。（神山純一）\n",
      "\n",
      "\n",
      "https://headlines.yahoo.co.jp/hl?a=20201207-22060718-nksports-soci\n",
      "コロナ禍で公認サンタ出番なし？Ｘマス見つめ直して（日刊スポーツ） - Yahoo!ニュース\n",
      "https://headlines.yahoo.co.jp/hl?a=20201207-22060718-nksports-soci\n",
      "＜コロナ社会を生きる＞\n",
      "\n",
      "クリスマスまで2週間あまり。新型コロナウイルス感染拡大で、世界中のサンタクロースの活動にも影響が出ている。\n",
      "\n",
      "【写真】グリーンランド国際サンタクロース協会で日本唯一の公認サンタクロースのパラダイス山元。デンマークで各国の公認サンタとともに\n",
      "\n",
      "サンタは初めて経験するコロナ禍で、どのような活動を行っているのか。グリーンランド（デンマーク自治領）国際サンタクロース協会で、日本唯一の公認サンタクロースのマンボミュージシャン、パラダイス山元（58）に話を聞いた。\n",
      "\n",
      "　　　◇　　　◇　　　◇\n",
      "\n",
      "世界的な新型コロナウイルス感染拡大が続く中、公認サンタとしての活動も例年通りにいかなくなった。「11、12月の土日のスケジュールがこんなに何もなくて、家にいていいのかな」。これまで早い時は9月から、児童福祉施設や障がい者施設、小児病棟を訪問していた。今年は感染拡大防止の観点から、やむなく訪問を断念した。\n",
      "\n",
      "「安全を考えたらむちゃはできないかなと。（子供たちは）サンタさんが当たり前のように来てくれていると思っている。途絶えてしまうのは、きついといえばきつい。でもしょうがないですよね、世界中でこんな状況ですから」\n",
      "\n",
      "初めて施設や小児病棟とオンラインでつなぐリモート訪問を始めた。病院職員が山元サンタが映し出されたスマートフォンを持って、入院中の子供が寝ているベッドを回ることもある。\n",
      "\n",
      "「私自身、画面でのやりとりも慣れていないし、こちらはスマホの小さな画面で、向こうはプロジェクターで教室いっぱいに私を映し出したりしていて、もうちょっとメーキャップしなきゃとかいろいろあります。また来てね、と言われるので、早く行かないといけないな、と思います」\n",
      "\n",
      "活動の中でこれまでとの大きな違いは触れ合いだ。\n",
      "\n",
      "「気軽に触れ合ったり、ハグしたり、サンタのひざの上に乗っかって写真を撮るとか、全部なくなった。ぬくもり、やさしさが永久になくなってしまうということを危惧しています」\n",
      "\n",
      "今もネット環境に慣れず、電話やファクスでメッセージを送るサンタもいるが、一部サンタとはビデオ会議システム「Zoom（ズーム）」などを使い、オンラインで連絡を取り合う。「米、英、ドイツ、デンマーク、スウェーデン、エルサルバドルのサンタとZoomやTeams（チームス）でやりとりしています」。コロナ禍で「どこにも出てない」「仕事はキャンセルした」といった人が多かったという。\n",
      "\n",
      "あるサンタは自宅の小さな部屋にグリーンバックで背景を自由に変えられるバーチャルスタジオを作ったという。「新しいアイデアを思いつくのは若い人が多いですね」と感心した。\n",
      "\n",
      "グリーンランド国際サンタクロース協会の公認サンタは約120人。毎年夏にデンマークで「世界サンタクロース会議」が開催される。出席することで公認サンタの資格が更新される。60年以上、続く会議も今年は初めて中止になった。\n",
      "\n",
      "公認サンタの年齢は上は90代以上、60～70代前半と高齢者が多い。「私なんかまだペーペーです」。日本は真夏だが、自宅からサンタの格好で出掛ける決まりだ。「もう慣れましたが大変です」。資格維持のため、車いすやつえを突きながら会議に出席するおじいちゃんサンタもいたという。\n",
      "\n",
      "「1年何もやらなくなっちゃって、来年もこのような状況が続いてたら、ボケてしまうのではないかと。サンタの服を着て、今すぐにでも飛び出したい人たちがほとんど。そこは大丈夫かなって心配しています」\n",
      "\n",
      "ずっと気になっていることがある。日本と北欧のクリスマスに対する精神文化の成熟度の違いだ。数年前、ノルウェーに行った時、女子高生がかわいい手袋を付けていた。「これいいでしょ。去年サンタさんにもらったんだ」とうれしそうに教えてくれた。\n",
      "\n",
      "デンマークで男子中学生が父親に「ほしいものはいっぱいあるけど、プラスチックではなく、木のぬくもりがある便座にしたい」とねだっていた。父親は「それはもうサンタさんに言ったから、違うものを頼めよ。2つ便座が来たら困るだろう」と答えたという。どちらも「成熟した会話だな」と感心した。\n",
      "\n",
      "「日本では、クリスマスはゲーム機本体をもらう日になっている。去年のプレゼントは何をもらったかも覚えていない。コロナでセレモニーが少なくなったとはいえ、モノに対する充足感はあっても、精神文化が未熟なところがある。例えば、親にストレートに感謝する日にしても良いのでは」\n",
      "\n",
      "また、コロナ禍で忘年会などが減っている今、父親が家にいる時間が増えた。\n",
      "\n",
      "「クリスマス前1週間はだいたい忘年会とか、『ミニスカサンタ』のところに行っちゃっている（笑い）。家族で過ごすことがクリスマスのセレモニーとして大事なこと。コロナ禍でそれが成立するだけでもいいのでは。『災い転じて福となす』です」\n",
      "\n",
      "クリスマスの本質を見直す機会になってほしいと望んでいる。【近藤由美子】\n",
      "\n",
      "◆パラダイス山元（やまもと）1962年（昭37）11月19日、札幌市生まれ。日大芸術学部美術学科卒。富士重工業（現・SUBARU）に入社し、カーデザイナーとして初代レガシィツーリングワゴンなどを手掛ける。退社後、東京パノラママンボボーイズを結成し、メジャーデビュー。サンタ、マンボミュージシャンのほか、会員制ギョーザ店経営、入浴剤ソムリエなど、幅広く活動している。\n",
      "\n",
      "\n",
      "https://headlines.yahoo.co.jp/hl?a=20201207-00000125-spnannex-base\n",
      "48歳の新庄剛志氏、日本ハム時代の背番号1つけ軽快な動き　シートノックは三塁でハツラツプレー（スポニチアネックス） - Yahoo!ニュース\n",
      "https://headlines.yahoo.co.jp/hl?a=20201207-00000125-spnannex-base\n",
      "　戦力外となった選手らを対象とした12球団合同トライアウトが7日、56選手が参加して都内で始まった。阪神や日本ハムで活躍し、メッツなど大リーグでもプレーした新庄剛志氏（48）も参戦。背番号1の日本ハム時代のユニホーム姿で登場した新庄氏は、白崎（オリックス）とキャッチボールするなどアップから真剣な表情で軽快な動きをみせた。\n",
      "\n",
      "【写真】内野手としてノックに参加する新庄氏\n",
      "\n",
      "　シートノックでは三塁のポジションに入ってハツラツにプレー。華麗なスローイングを見せつけた。\n",
      "\n",
      "　新庄氏は日本ハムの日本一に貢献した06年以来のNPB復帰を目指している。06年限りでの引退し、10年からインドネシアのバリ島に移住していたが、昨年11月に自身のインスタグラムで、現役復帰の意向を表明。動画で「みんな、夢はあるかい。1％の可能性があれば、必ずできる。きょうからトレーニングを始めて、もう一回、プロ野球選手になろうと思います。みんなも何か挑戦しようぜ」と語りかけた。その言葉通り、今年夏に国内に戻り、トレーニングを重ねてきていた。\n",
      "\n",
      "　新庄氏の挑戦は、野球界から大きな注目を集めている。清原和博氏（53）は5日に都内で野球教室を開催した際に「新庄君は華がありますし、見た目と違って野球に対する姿勢は素晴らしい。ぜひ頑張ってほしい。僕の願いとしては受かってほしい。低迷している野球界にスパイス的な存在として、新庄君が入ってくれると違う意味でプロ野球が盛り上がる」とエールを送った。\n",
      "\n",
      "\n",
      "https://headlines.yahoo.co.jp/article?a=20201207-00010008-jisin-ent\n",
      "佐藤健、手越祐也…2020年芸能人YouTuber 成功した3つの法則（女性自身） - Yahoo!ニュース\n",
      "https://headlines.yahoo.co.jp/article?a=20201207-00010008-jisin-ent\n",
      "2020年は、芸能界において、空前の「YouTubeブーム」が巻き起こった年といえる。\n",
      "\n",
      "【写真あり】川口春奈のチャンネルも、登録者116万人と絶大な人気を誇っている\n",
      "\n",
      "コロナ禍による映画やドラマの撮影延期でできた「おうち時間」を使って動画を提供する俳優たち。事務所を退所したのち、個人的な活動の場としてYouTubeを始めた元ジャニーズタレント。芸能界の勢力図の変化により、バラエティ番組から自身のチャンネルへと移動を始めた大御所芸人……。\n",
      "\n",
      "それぞれの事情を抱えて、多くの芸能人が今年、新しくYouTubeチャンネルを開設した。人気者の彼らにとって、テレビよりも手軽に見られるYouTubeでは視聴者を獲得するのも容易……かと思われたが、その実意外と難しそうだ。2020年に開設された数百もの芸能人チャンネルの中で、チャンネル登録者数100万人を突破したチャンネルは10にも満たない。\n",
      "\n",
      "そんな厳しい状況の中、見事多くの登録者数を獲得したチャンネルの強みは何だったのだろうか。人気を博している芸能人チャンネルの共通点を3つ考察してみた。\n",
      "\n",
      "【1】リラックスした雰囲気で「素の自分」感を演出（佐藤健、川口春奈、赤西＆錦戸）\n",
      "\n",
      "今年YouTube界を最も沸かせた俳優といえば、佐藤健（31）だろう。「わずか3日で登録者数100万人突破」のニュースは各所で取り上げられた。もともとの彼の人気ももちろん大きな要因だが、その超人気俳優である彼が、友人たちとともに自然体な姿を見せているのも、このチャンネルが見られる理由の一つだ。\n",
      "\n",
      "ある人気動画では、佐藤の親友である神木隆之介（27）が「持ち込み企画」と称し、彼をドライブに連れていく。ほかにも人気俳優数名を携え、ノープランでだらだらと日帰り旅行を楽しむのだ。テレビにはないゆったりとした雰囲気の中で、飾らないナチュラルな姿を見せている。\n",
      "\n",
      "川口春奈（25）のチャンネルも、登録者116万人と絶大な人気を誇っている。一番人気の動画は「実家でまったり過ごします！【Vlog】」（約650万回再生）。なんと、彼女が実家に帰って家族や親族とただ料理をしたり、ご飯を食べたりするだけの動画である。「女優さんだって普通に人間なんだよなって思う動画」というコメントに大量のいいねがついている。\n",
      "\n",
      "元ジャニーズの赤西仁（36）・錦戸亮（36）が二人で立ち上げた「NO GOOD TV」も同様だ。2人が友人たちと自然体でトークをしたり、ゲームをしたり、笑い合いながら英語を学んだりする様子を（いい意味で）垂れ流している。トップアイドルだった彼らがまるで普通の飲み会のように話し、悪態を付き合う様子は視聴者にとって垂涎ものだろう。\n",
      "\n",
      "俳優たちやアイドルが、テレビでは見られない、自然体で「素」な一面をだらだらと見せてくれる。それが、彼らのチャンネルが視聴者から人気を得た理由だ。\n",
      "\n",
      "\n",
      "https://headlines.yahoo.co.jp/hl?a=20201207-00010001-hintpot-life\n",
      "具志堅用高さん　テレビでも人気だった愛犬との別れを初告白　「グスマンは最高だった」（Hint-Pot） - Yahoo!ニュース\n",
      "https://headlines.yahoo.co.jp/hl?a=20201207-00010001-hintpot-life\n",
      "　沖縄訛り（？）の「ちょっちゅね～」の口癖といえばタレントの具志堅用高さん（65）。元ボクシング世界チャンピオンで、現在はタレントとしてバラエティ番組などで大活躍している。そんな具志堅さんのボクサー犬「グスマン」くんは具志堅さんと何度もテレビで共演し、視聴者に愛されていた。ところが、20年7月、具志堅さんはツイッターで、グスマンくんが天国へ行ったことを報告しファンを驚かせた。グスマンくんに何があったのか。具志堅さんに聞いた。\n",
      "\n",
      "【写真】「やっぱり顔が好きだったなぁ」と具志堅用高さん　愛犬・グスマンくんとの思い出写真集（4枚）\n",
      "\n",
      "　◇　◇　◇\n",
      "\n",
      "\n"
     ]
    }
   ],
   "source": [
    "for pickup_link in pickup_links:\n",
    "    pickup_res =requests.get(pickup_link)\n",
    "    pickup_soup=BeautifulSoup(pickup_res.text,\"html.parser\")\n",
    "    \n",
    "    pickup_elem=pickup_soup.find(\"p\",class_=\"sc-OqFzE\")\n",
    "    news_link=pickup_elem.a.attrs[\"href\"]\n",
    "    print(news_link)\n",
    "    \n",
    "    news_res=requests.get(news_link)\n",
    "    news_soup=BeautifulSoup(news_res.text,\"html.parser\")\n",
    "    \n",
    "    print(news_soup.title.text)\n",
    "    print(news_link)\n",
    "    \n",
    "    detail_text=news_soup.find(class_=re.compile(\"SlinkDirectlink\"))\n",
    "    print(detail_text.text if hasattr(detail_text,\"text\") else '', end=\"\\n\\n\\n\")\n",
    "    \n",
    "    time.sleep(1)"
   ]
  },
  {
   "cell_type": "code",
   "execution_count": null,
   "metadata": {},
   "outputs": [],
   "source": []
  }
 ],
 "metadata": {
  "kernelspec": {
   "display_name": "Python 3",
   "language": "python",
   "name": "python3"
  },
  "language_info": {
   "codemirror_mode": {
    "name": "ipython",
    "version": 3
   },
   "file_extension": ".py",
   "mimetype": "text/x-python",
   "name": "python",
   "nbconvert_exporter": "python",
   "pygments_lexer": "ipython3",
   "version": "3.9.0"
  }
 },
 "nbformat": 4,
 "nbformat_minor": 4
}

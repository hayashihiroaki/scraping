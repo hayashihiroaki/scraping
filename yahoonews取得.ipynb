{
 "cells": [
  {
   "cell_type": "code",
   "execution_count": 1,
   "metadata": {},
   "outputs": [],
   "source": [
    "import sys\n",
    "sys.path.append('/Library/Frameworks/Python.framework/Versions/3.9/lib/python3.9/site-packages') \n",
    "sys.path.remove('/usr/local/lib/python3.9/site-packages') \n",
    "sys.path.remove( '/usr/local/lib/python3.9/site-packages/IPython/extensions') \n",
    "\n",
    "import requests \n",
    "from bs4 import BeautifulSoup\n",
    "import time"
   ]
  },
  {
   "cell_type": "code",
   "execution_count": 2,
   "metadata": {},
   "outputs": [],
   "source": [
    "url=\"https://yahoo.co.jp/\""
   ]
  },
  {
   "cell_type": "code",
   "execution_count": 3,
   "metadata": {},
   "outputs": [],
   "source": [
    "res=requests.get(url)"
   ]
  },
  {
   "cell_type": "code",
   "execution_count": 4,
   "metadata": {},
   "outputs": [],
   "source": [
    "soup=BeautifulSoup(res.text,\"html.parser\")"
   ]
  },
  {
   "cell_type": "code",
   "execution_count": 5,
   "metadata": {},
   "outputs": [],
   "source": [
    "elems=soup.find_all(\"a\")"
   ]
  },
  {
   "cell_type": "code",
   "execution_count": 6,
   "metadata": {},
   "outputs": [
    {
     "data": {
      "text/plain": [
       "[<a class=\"yMWCYupQNdgppL-NV6sMi _3sAlKGsIBCxTUbNi86oSjt\" data-ylk=\"slk:bbhelp;pos:0\" href=\"https://www.yahoo-help.jp/\">ヘルプ</a>,\n",
       " <a class=\"yMWCYupQNdgppL-NV6sMi _3sAlKGsIBCxTUbNi86oSjt\" data-ylk=\"slk:bbhelp;pos:1\" href=\"https://www.yahoo-help.jp/app/home/p/356/\">Yahoo!BBヘルプ</a>,\n",
       " <a class=\"yMWCYupQNdgppL-NV6sMi _3sAlKGsIBCxTUbNi86oSjt\" data-ylk=\"rsec:header;slk:logo;pos:0\" href=\"https://www.yahoo.co.jp\">Yahoo! JAPAN</a>,\n",
       " <a aria-label=\"PayPay STEPへ遷移する\" class=\"yMWCYupQNdgppL-NV6sMi _3sAlKGsIBCxTUbNi86oSjt\" data-ylk=\"rsec:header;slk:paypaystep;pos:0\" href=\"https://paypaystep.yahoo.co.jp/?sc_e=ytmh_p2c_web\"><p class=\"oLvk9L5Yk-9JOuzi-OHW5\"><span class=\"t_jb9bKlgIcajcRS2hZAP\">PayPay STEP</span><span class=\"_2Uq6Pw5lfFfxr_OD36xHp6 _1dr5aVDbNPF63JCS2bJhij _18UPg6R6cxJSC9JHKF8juc\" style=\"width:38px;height:38px\"></span></p></a>,\n",
       " <a aria-label=\"カードへ遷移する\" class=\"yMWCYupQNdgppL-NV6sMi _3sAlKGsIBCxTUbNi86oSjt\" data-ylk=\"rsec:header;slk:card;pos:0\" href=\"https://card.yahoo.co.jp/service/redirect/top/\"><p class=\"oLvk9L5Yk-9JOuzi-OHW5\"><span class=\"t_jb9bKlgIcajcRS2hZAP\">カード</span><span class=\"_2Uq6Pw5lfFfxr_OD36xHp6 _1dr5aVDbNPF63JCS2bJhij _1MaEI7rEHB4FpQ1MwfWxIK\" style=\"width:36px;height:38px\"></span></p></a>,\n",
       " <a aria-label=\"メールへ遷移する\" class=\"yMWCYupQNdgppL-NV6sMi _3sAlKGsIBCxTUbNi86oSjt\" data-ylk=\"rsec:header;slk:mail;pos:0\" href=\"https://mail.yahoo.co.jp/\"><p class=\"oLvk9L5Yk-9JOuzi-OHW5\"><span class=\"t_jb9bKlgIcajcRS2hZAP\">メール</span><span class=\"_2Uq6Pw5lfFfxr_OD36xHp6 _1dr5aVDbNPF63JCS2bJhij _3Qi5P0lTFbNkWishPzz8tb\" style=\"width:36px;height:38px\"></span></p></a>,\n",
       " <a aria-label=\"トラベルへ遷移する\" class=\"yMWCYupQNdgppL-NV6sMi _3sAlKGsIBCxTUbNi86oSjt\" data-ylk=\"rsec:header;slk:travel;pos:0\" href=\"https://travel.yahoo.co.jp/promo/gototravel/?sc_e=ytmh\"><p class=\"oLvk9L5Yk-9JOuzi-OHW5\"><span class=\"t_jb9bKlgIcajcRS2hZAP\">トラベル</span><span class=\"_2Uq6Pw5lfFfxr_OD36xHp6 _1dr5aVDbNPF63JCS2bJhij _3hg11aV8E6Xx541l0JOw85\" style=\"width:38px;height:38px\"></span></p></a>,\n",
       " <a aria-label=\"ヤフオク!へ遷移する\" class=\"yMWCYupQNdgppL-NV6sMi _3sAlKGsIBCxTUbNi86oSjt\" data-ylk=\"rsec:header;slk:auction;pos:0\" href=\"https://auctions.yahoo.co.jp/\"><p class=\"oLvk9L5Yk-9JOuzi-OHW5\"><span class=\"t_jb9bKlgIcajcRS2hZAP\">ヤフオク!</span><span class=\"_2Uq6Pw5lfFfxr_OD36xHp6 _1dr5aVDbNPF63JCS2bJhij _1K47f2oTmrnpusFOpVVqfY\" style=\"width:38px;height:38px\"></span></p></a>,\n",
       " <a aria-label=\"ショッピングへ遷移する\" class=\"yMWCYupQNdgppL-NV6sMi _3sAlKGsIBCxTUbNi86oSjt\" data-ylk=\"rsec:header;slk:shopping;pos:0\" href=\"https://shopping.yahoo.co.jp/?sc_e=ytmh\"><p class=\"oLvk9L5Yk-9JOuzi-OHW5\"><span class=\"t_jb9bKlgIcajcRS2hZAP\">ショッピング</span><span class=\"_2Uq6Pw5lfFfxr_OD36xHp6 _1dr5aVDbNPF63JCS2bJhij MOLSPrtOUmdnYy_LgNt2f\" style=\"width:38px;height:38px\"></span></p></a>,\n",
       " <a aria-label=\"ウェブで検索\" class=\"_33uErKrZG6jQv2aeVeGWGc\" href=\"https://search.yahoo.co.jp/\" tabindex=\"-1\"><span class=\"fQMqQTGJTbIMxjQwZA2zk _3tGRl6x9iIWRiFTkKl3kcR\"><span class=\"_1TCzQONRwuX9Joqzy35uo2 Y3FvSPVIJAsu5GBdHdiC8\">ウェブ</span></span></a>,\n",
       " <a aria-label=\"画像で検索\" class=\"_33uErKrZG6jQv2aeVeGWGc\" href=\"https://search.yahoo.co.jp/image\" tabindex=\"-1\"><span class=\"fQMqQTGJTbIMxjQwZA2zk _3tGRl6x9iIWRiFTkKl3kcR\"><span class=\"_1TCzQONRwuX9Joqzy35uo2\">画像</span></span></a>,\n",
       " <a aria-label=\"動画で検索\" class=\"_33uErKrZG6jQv2aeVeGWGc\" href=\"https://search.yahoo.co.jp/video\" tabindex=\"-1\"><span class=\"fQMqQTGJTbIMxjQwZA2zk _3tGRl6x9iIWRiFTkKl3kcR\"><span class=\"_1TCzQONRwuX9Joqzy35uo2\">動画</span></span></a>,\n",
       " <a aria-label=\"知恵袋で検索\" class=\"_33uErKrZG6jQv2aeVeGWGc\" href=\"https://chiebukuro.yahoo.co.jp/\" tabindex=\"-1\"><span class=\"fQMqQTGJTbIMxjQwZA2zk _3tGRl6x9iIWRiFTkKl3kcR\"><span class=\"_1TCzQONRwuX9Joqzy35uo2\">知恵袋</span></span></a>,\n",
       " <a aria-label=\"地図で検索\" class=\"_33uErKrZG6jQv2aeVeGWGc\" href=\"https://map.yahoo.co.jp/\" tabindex=\"-1\"><span class=\"fQMqQTGJTbIMxjQwZA2zk _3tGRl6x9iIWRiFTkKl3kcR\"><span class=\"_1TCzQONRwuX9Joqzy35uo2\">地図</span></span></a>,\n",
       " <a aria-label=\"リアルタイムで検索\" class=\"_33uErKrZG6jQv2aeVeGWGc\" href=\"https://search.yahoo.co.jp/realtime\" tabindex=\"-1\"><span class=\"fQMqQTGJTbIMxjQwZA2zk _3tGRl6x9iIWRiFTkKl3kcR\"><span class=\"_1TCzQONRwuX9Joqzy35uo2\">リアルタイム</span></span></a>,\n",
       " <a aria-label=\"その他\" class=\"_33uErKrZG6jQv2aeVeGWGc\" href=\"https://services.yahoo.co.jp/\" tabindex=\"-1\"><span class=\"fQMqQTGJTbIMxjQwZA2zk _3tGRl6x9iIWRiFTkKl3kcR\"><span class=\"_1TCzQONRwuX9Joqzy35uo2\">一覧</span></span></a>,\n",
       " <a class=\"_1NzGMsC3awTFzjzXnvX-zV\" data-ylk=\"rsec:message;slk:jsof;pos:0\" href=\"https://www.yahoo-help.jp/app/noscript\">JavaScriptの設定方法</a>,\n",
       " <a class=\"_1NzGMsC3awTFzjzXnvX-zV\" data-ylk=\"rsec:message;slk:cgrade;pos:0\" href=\"https://www.yahoo-help.jp/app/answers/detail/p/533/a_id/43883\">Internet Explorerの互換表示について</a>,\n",
       " <a class=\"yMWCYupQNdgppL-NV6sMi _3sAlKGsIBCxTUbNi86oSjt\" data-ylk=\"rsec:toplink;slk:link;pos:1;aid:1577061\" href=\"https://paypaymall.yahoo.co.jp/campaign/fukubukuro/?sc_e=yttl_pc_zozofukubukuro\"><span class=\"fQMqQTGJTbIMxjQwZA2zk _3tGRl6x9iIWRiFTkKl3kcR\"><span class=\"_3S2Wdrkt1LKANaWcLrZToT\">ZOZOPayPayモール店　お気に入りの福袋を探そう</span></span></a>,\n",
       " <a class=\"yMWCYupQNdgppL-NV6sMi _3sAlKGsIBCxTUbNi86oSjt\" data-ylk=\"rsec:toplink;slk:link;pos:2;aid:1577079\" href=\"https://toku.yahoo.co.jp/kimetubook202012/lot/?sc_e=yttl_ebj\"><span class=\"fQMqQTGJTbIMxjQwZA2zk _3tGRl6x9iIWRiFTkKl3kcR\"><span class=\"_3S2Wdrkt1LKANaWcLrZToT\">くじに挑戦　「鬼滅の刃」全巻セットが当たるチャンス</span></span></a>,\n",
       " <a aria-label=\"ショッピングへ遷移する\" class=\"yMWCYupQNdgppL-NV6sMi _3sAlKGsIBCxTUbNi86oSjt\" href=\"https://shopping.yahoo.co.jp/?sc_e=ytc\"><p class=\"_2bBRLhI5ZpVYu0tuHZEFrn\"><span class=\"pz0On1w4yAviBGMdKItoQ\"><span class=\"fQMqQTGJTbIMxjQwZA2zk _3tGRl6x9iIWRiFTkKl3kcR\">ショッピング</span></span><span class=\"_1Al3K70np2V_Ev1eGkfsBm\"><span class=\"_2Uq6Pw5lfFfxr_OD36xHp6 _1dr5aVDbNPF63JCS2bJhij MOLSPrtOUmdnYy_LgNt2f\" style=\"width:20px;height:20px\"></span></span></p></a>,\n",
       " <a aria-label=\"PayPayモールへ遷移する\" class=\"yMWCYupQNdgppL-NV6sMi _3sAlKGsIBCxTUbNi86oSjt\" href=\"https://paypaymall.yahoo.co.jp/?sc_e=ytc\"><p class=\"_2bBRLhI5ZpVYu0tuHZEFrn\"><span class=\"pz0On1w4yAviBGMdKItoQ\"><span class=\"fQMqQTGJTbIMxjQwZA2zk _3tGRl6x9iIWRiFTkKl3kcR\">PayPayモール</span></span><span class=\"_1Al3K70np2V_Ev1eGkfsBm\"><span class=\"_2Uq6Pw5lfFfxr_OD36xHp6 _1dr5aVDbNPF63JCS2bJhij _2aNXx7_xy-w5TRQtsAbLhN\" style=\"width:20px;height:20px\"></span></span></p></a>,\n",
       " <a aria-label=\"ヤフオク!へ遷移する\" class=\"yMWCYupQNdgppL-NV6sMi _3sAlKGsIBCxTUbNi86oSjt\" href=\"https://auctions.yahoo.co.jp\"><p class=\"_2bBRLhI5ZpVYu0tuHZEFrn\"><span class=\"pz0On1w4yAviBGMdKItoQ\"><span class=\"fQMqQTGJTbIMxjQwZA2zk _3tGRl6x9iIWRiFTkKl3kcR\">ヤフオク!</span></span><span class=\"_1Al3K70np2V_Ev1eGkfsBm\"><span class=\"_2Uq6Pw5lfFfxr_OD36xHp6 _1dr5aVDbNPF63JCS2bJhij _1K47f2oTmrnpusFOpVVqfY\" style=\"width:20px;height:20px\"></span></span></p></a>,\n",
       " <a aria-label=\"PayPayフリマへ遷移する\" class=\"yMWCYupQNdgppL-NV6sMi _3sAlKGsIBCxTUbNi86oSjt\" href=\"https://app.adjust.com/1kmi1m2?redirect=https%3A%2F%2Fpaypayfleamarket.yahoo.co.jp%2F%3Fcpt_s%3Dytopmedia%26cpt_m%3Dkotei%26cpt_n%3Dcontent%26cpt_c%3Dytopmedia\"><p class=\"_2bBRLhI5ZpVYu0tuHZEFrn\"><span class=\"pz0On1w4yAviBGMdKItoQ\"><span class=\"fQMqQTGJTbIMxjQwZA2zk _3tGRl6x9iIWRiFTkKl3kcR\">PayPayフリマ</span></span><span class=\"_1Al3K70np2V_Ev1eGkfsBm\"><span class=\"_2Uq6Pw5lfFfxr_OD36xHp6 _1dr5aVDbNPF63JCS2bJhij _3zb-zxOYGPoHJ2-_Ie8y8T\" style=\"width:20px;height:20px\"></span></span></p></a>,\n",
       " <a aria-label=\"ZOZOTOWNへ遷移する\" class=\"yMWCYupQNdgppL-NV6sMi _3sAlKGsIBCxTUbNi86oSjt\" href=\"https://zozo.jp/?utm_source=yahoo&amp;utm_medium=referral&amp;utm_campaign=web_ytop-leftcolumn\"><p class=\"_2bBRLhI5ZpVYu0tuHZEFrn\"><span class=\"pz0On1w4yAviBGMdKItoQ\"><span class=\"fQMqQTGJTbIMxjQwZA2zk _3tGRl6x9iIWRiFTkKl3kcR\">ZOZOTOWN</span></span><span class=\"_1Al3K70np2V_Ev1eGkfsBm\"><span class=\"_2Uq6Pw5lfFfxr_OD36xHp6 _1dr5aVDbNPF63JCS2bJhij _2VdNwkD_q8hjK0ZyvATgab\" style=\"width:20px;height:20px\"></span></span></p></a>,\n",
       " <a aria-label=\"LOHACOへ遷移する\" class=\"yMWCYupQNdgppL-NV6sMi _3sAlKGsIBCxTUbNi86oSjt\" href=\"https://lohaco.jp/?bk=t&amp;sc_e=j_as_ya_tc_n&amp;iscr=1\"><p class=\"_2bBRLhI5ZpVYu0tuHZEFrn\"><span class=\"pz0On1w4yAviBGMdKItoQ\"><span class=\"fQMqQTGJTbIMxjQwZA2zk _3tGRl6x9iIWRiFTkKl3kcR\">LOHACO</span></span><span class=\"_1Al3K70np2V_Ev1eGkfsBm\"><span class=\"_2Uq6Pw5lfFfxr_OD36xHp6 _1dr5aVDbNPF63JCS2bJhij _3xvmznkMqRitO0Iqn3ckur\" style=\"width:20px;height:20px\"></span></span></p></a>,\n",
       " <a aria-label=\"トラベルへ遷移する\" class=\"yMWCYupQNdgppL-NV6sMi _3sAlKGsIBCxTUbNi86oSjt\" href=\"https://travel.yahoo.co.jp/?sc_e=ytsl\"><p class=\"_2bBRLhI5ZpVYu0tuHZEFrn\"><span class=\"pz0On1w4yAviBGMdKItoQ\"><span class=\"fQMqQTGJTbIMxjQwZA2zk _3tGRl6x9iIWRiFTkKl3kcR\">トラベル</span></span><span class=\"_1Al3K70np2V_Ev1eGkfsBm\"><span class=\"_2Uq6Pw5lfFfxr_OD36xHp6 _1dr5aVDbNPF63JCS2bJhij _1yEKxUFSw-Xv2gaBZsYRuI\" style=\"width:20px;height:20px\"></span></span></p></a>,\n",
       " <a aria-label=\"一休.comへ遷移する\" class=\"yMWCYupQNdgppL-NV6sMi _3sAlKGsIBCxTUbNi86oSjt\" href=\"https://www.ikyu.com/ikCo.ashx?cosid=ik010002&amp;surl=%2F\"><p class=\"_2bBRLhI5ZpVYu0tuHZEFrn\"><span class=\"pz0On1w4yAviBGMdKItoQ\"><span class=\"fQMqQTGJTbIMxjQwZA2zk _3tGRl6x9iIWRiFTkKl3kcR\">一休.com</span></span><span class=\"_1Al3K70np2V_Ev1eGkfsBm\"><span class=\"_2Uq6Pw5lfFfxr_OD36xHp6 _1dr5aVDbNPF63JCS2bJhij daLkyi7PiGXeFyVYTU_9n\" style=\"width:20px;height:20px\"></span></span></p></a>,\n",
       " <a aria-label=\"一休.comレストランへ遷移する\" class=\"yMWCYupQNdgppL-NV6sMi _3sAlKGsIBCxTUbNi86oSjt\" href=\"https://restaurant.ikyu.com/rsCosite.asp?CosNo=10000175&amp;CosUrl=\"><p class=\"_2bBRLhI5ZpVYu0tuHZEFrn\"><span class=\"pz0On1w4yAviBGMdKItoQ\"><span class=\"fQMqQTGJTbIMxjQwZA2zk _3tGRl6x9iIWRiFTkKl3kcR\">一休.comレストラン</span></span><span class=\"_1Al3K70np2V_Ev1eGkfsBm\"><span class=\"_2Uq6Pw5lfFfxr_OD36xHp6 _1dr5aVDbNPF63JCS2bJhij _1z4Le4zkghapVZCQm9RCy8\" style=\"width:20px;height:20px\"></span></span></p></a>,\n",
       " <a aria-label=\"ニュースへ遷移する\" class=\"yMWCYupQNdgppL-NV6sMi _3sAlKGsIBCxTUbNi86oSjt\" href=\"https://news.yahoo.co.jp/\"><p class=\"_2bBRLhI5ZpVYu0tuHZEFrn\"><span class=\"pz0On1w4yAviBGMdKItoQ\"><span class=\"fQMqQTGJTbIMxjQwZA2zk _3tGRl6x9iIWRiFTkKl3kcR\">ニュース</span></span><span class=\"_1Al3K70np2V_Ev1eGkfsBm\"><span class=\"_2Uq6Pw5lfFfxr_OD36xHp6 _1dr5aVDbNPF63JCS2bJhij MV8kvbzLJ8HhdzIEBJ2Bv\" style=\"width:20px;height:20px\"></span></span></p></a>,\n",
       " <a aria-label=\"Yahoo! JAPANのサービス一覧\" class=\"yMWCYupQNdgppL-NV6sMi _3sAlKGsIBCxTUbNi86oSjt\" data-ylk=\"rsec:tool;slk:list;pos:0\" href=\"https://services.yahoo.co.jp/\"><dl class=\"STepvEgbaZ0rLEqfER-qm\"><dt class=\"W2bretj6vyf8QDes2gkQA\"><span class=\"fQMqQTGJTbIMxjQwZA2zk _3tGRl6x9iIWRiFTkKl3kcR\">サービス一覧</span></dt><dd class=\"_37zK--zuySKLzNE12rgdHL\"><span class=\"_2Uq6Pw5lfFfxr_OD36xHp6 _1dr5aVDbNPF63JCS2bJhij _3WrFs0ChLr_s9-gBqS7yts\" style=\"width:14px;height:14px\"></span></dd></dl></a>,\n",
       " <a class=\"yMWCYupQNdgppL-NV6sMi _3sAlKGsIBCxTUbNi86oSjt\" data-ual-gotocontent=\"true\" data-ylk=\"rsec:tpto;slk:title;pos:1;tpid:6378637;imgsize:s;cmt_num:92\" href=\"https://news.yahoo.co.jp/pickup/6378637\"><div class=\"_2cXD1uC4eaOih4-zkRgqjU\"><div class=\"TRuzXRRZHRqbqgLUCCco9\"><h1 class=\"_3cl937Zpn1ce8mDKd5kp7u\"><span class=\"fQMqQTGJTbIMxjQwZA2zk _3tGRl6x9iIWRiFTkKl3kcR\">道と大阪に自衛隊派遣へ 政府</span></h1><span class=\"_2obRU_TgAxzHaYqOXrZYlv\"><span class=\"h4yLXygiSc5wwNlJOQEdz _1dr5aVDbNPF63JCS2bJhij _2M3AyDfFaeJl3Uo7lUPMAp\" style=\"width:30px;height:12px\">NEW</span></span></div></div></a>,\n",
       " <a class=\"yMWCYupQNdgppL-NV6sMi _3sAlKGsIBCxTUbNi86oSjt\" data-ual-gotocontent=\"true\" data-ylk=\"rsec:tpto;slk:title;pos:2;tpid:6378622;imgsize:s;cmt_num:4454\" href=\"https://news.yahoo.co.jp/pickup/6378622\"><div class=\"_2cXD1uC4eaOih4-zkRgqjU\"><div class=\"TRuzXRRZHRqbqgLUCCco9\"><h1 class=\"_3cl937Zpn1ce8mDKd5kp7u\"><span class=\"fQMqQTGJTbIMxjQwZA2zk _3tGRl6x9iIWRiFTkKl3kcR\">内閣支持率が急落55.3% JNN</span></h1></div></div></a>,\n",
       " <a class=\"yMWCYupQNdgppL-NV6sMi _3sAlKGsIBCxTUbNi86oSjt\" data-ual-gotocontent=\"true\" data-ylk=\"rsec:tpto;slk:title;pos:3;tpid:6378634;imgsize:s;cmt_num:69\" href=\"https://news.yahoo.co.jp/pickup/6378634\"><div class=\"_2cXD1uC4eaOih4-zkRgqjU\"><div class=\"TRuzXRRZHRqbqgLUCCco9\"><h1 class=\"_3cl937Zpn1ce8mDKd5kp7u\"><span class=\"fQMqQTGJTbIMxjQwZA2zk _3tGRl6x9iIWRiFTkKl3kcR\">貨物船炎上 2人連絡取れず</span></h1><span class=\"_2obRU_TgAxzHaYqOXrZYlv\"><span class=\"h4yLXygiSc5wwNlJOQEdz _1dr5aVDbNPF63JCS2bJhij _2M3AyDfFaeJl3Uo7lUPMAp\" style=\"width:30px;height:12px\">NEW</span></span></div></div></a>,\n",
       " <a class=\"yMWCYupQNdgppL-NV6sMi _3sAlKGsIBCxTUbNi86oSjt\" data-ual-gotocontent=\"true\" data-ylk=\"rsec:tpto;slk:title;pos:4;tpid:6378626;imgsize:s;cmt_num:230\" href=\"https://news.yahoo.co.jp/pickup/6378626\"><div class=\"_2cXD1uC4eaOih4-zkRgqjU\"><div class=\"TRuzXRRZHRqbqgLUCCco9\"><h1 class=\"_3cl937Zpn1ce8mDKd5kp7u\"><span class=\"fQMqQTGJTbIMxjQwZA2zk _3tGRl6x9iIWRiFTkKl3kcR\">ICOCA 混雑回避で還元を検討</span></h1></div></div></a>,\n",
       " <a class=\"yMWCYupQNdgppL-NV6sMi _3sAlKGsIBCxTUbNi86oSjt\" data-ual-gotocontent=\"true\" data-ylk=\"rsec:tpto;slk:title;pos:5;tpid:6378617;imgsize:s;cmt_num:45\" href=\"https://news.yahoo.co.jp/pickup/6378617\"><div class=\"_2cXD1uC4eaOih4-zkRgqjU\"><div class=\"TRuzXRRZHRqbqgLUCCco9\"><h1 class=\"_3cl937Zpn1ce8mDKd5kp7u\"><span class=\"fQMqQTGJTbIMxjQwZA2zk _3tGRl6x9iIWRiFTkKl3kcR\">コロナ禍 仕事減る公認サンタ</span></h1><span class=\"_2obRU_TgAxzHaYqOXrZYlv\"><span class=\"h4yLXygiSc5wwNlJOQEdz _1dr5aVDbNPF63JCS2bJhij _2M3AyDfFaeJl3Uo7lUPMAp\" style=\"width:30px;height:12px\">NEW</span></span></div></div></a>,\n",
       " <a class=\"yMWCYupQNdgppL-NV6sMi _3sAlKGsIBCxTUbNi86oSjt\" data-ual-gotocontent=\"true\" data-ylk=\"rsec:tpto;slk:title;pos:6;tpid:6378624;imgsize:s;cmt_num:1660\" href=\"https://news.yahoo.co.jp/pickup/6378624\"><div class=\"_2cXD1uC4eaOih4-zkRgqjU\"><div class=\"TRuzXRRZHRqbqgLUCCco9\"><h1 class=\"_3cl937Zpn1ce8mDKd5kp7u\"><span class=\"fQMqQTGJTbIMxjQwZA2zk _3tGRl6x9iIWRiFTkKl3kcR\">新庄氏参戦 トライアウト開始</span></h1></div></div></a>,\n",
       " <a class=\"yMWCYupQNdgppL-NV6sMi _3sAlKGsIBCxTUbNi86oSjt\" data-ual-gotocontent=\"true\" data-ylk=\"rsec:tpto;slk:title;pos:7;tpid:6378639;imgsize:s;cmt_num:334\" href=\"https://news.yahoo.co.jp/pickup/6378639\"><div class=\"_2cXD1uC4eaOih4-zkRgqjU\"><div class=\"TRuzXRRZHRqbqgLUCCco9\"><h1 class=\"_3cl937Zpn1ce8mDKd5kp7u\"><span class=\"fQMqQTGJTbIMxjQwZA2zk _3tGRl6x9iIWRiFTkKl3kcR\">手越祐也のYouTube なぜ成功</span></h1><span class=\"_2obRU_TgAxzHaYqOXrZYlv\"><span class=\"h4yLXygiSc5wwNlJOQEdz _1dr5aVDbNPF63JCS2bJhij _2M3AyDfFaeJl3Uo7lUPMAp\" style=\"width:30px;height:12px\">NEW</span></span></div></div></a>,\n",
       " <a class=\"yMWCYupQNdgppL-NV6sMi _3sAlKGsIBCxTUbNi86oSjt\" data-ual-gotocontent=\"true\" data-ylk=\"rsec:tpto;slk:title;pos:8;tpid:6378631;imgsize:s;cmt_num:425\" href=\"https://news.yahoo.co.jp/pickup/6378631\"><div class=\"_2cXD1uC4eaOih4-zkRgqjU\"><div class=\"TRuzXRRZHRqbqgLUCCco9\"><h1 class=\"_3cl937Zpn1ce8mDKd5kp7u\"><span class=\"fQMqQTGJTbIMxjQwZA2zk _3tGRl6x9iIWRiFTkKl3kcR\">具志堅 愛犬グスマンとの別れ</span></h1></div></div></a>,\n",
       " <a class=\"yMWCYupQNdgppL-NV6sMi _3sAlKGsIBCxTUbNi86oSjt\" data-ylk=\"rsec:tpto;slk:title;pos:9;imgsize:l\" href=\"https://headlines.yahoo.co.jp/hl?a=20201207-00010001-mjikenbo-l44.view-000\"><div class=\"_1EYwdR4JxrwgpIvWk7vO3f\"><h1 class=\"RS4h_eDWC6FIIyYMupWR0\"><span class=\"fQMqQTGJTbIMxjQwZA2zk _3tGRl6x9iIWRiFTkKl3kcR\">愛らしい縁起物</span></h1><p class=\"_2e8OreFgYIc3gdzYJLKAMA\"><time class=\"_1GD9Sx7FpCs4EuL3bT974r\">12/7(月) 12:16</time></p><div><cite class=\"O9jggTRv0zy3XcPayfJLa\">大分合同新聞</cite></div><div class=\"_1UmUawjY6VSzmTK3Y-1sjq\"><span class=\"rStpk9W4eUO5IMVhnJylj _9lUaMh5eQv_w-n4J18isw\"><img alt=\"\" height=\"67.98245614035088\" src=\"https://news-pctr.c.yimg.jp/r/iwiz-tpc/images/tpc/2020/12/7/2a23ce1b9345617f0a321195353316d0de03e99e3d9b305ed8df2082f1e0c86a.jpg?h=200&amp;w=200&amp;pri=l\" width=\"100\"/></span></div></div></a>,\n",
       " <a class=\"yMWCYupQNdgppL-NV6sMi _3sAlKGsIBCxTUbNi86oSjt\" data-ylk=\"rsec:tpto;slk:more;pos:0\" href=\"https://news.yahoo.co.jp/topics/top-picks\">もっと見る</a>,\n",
       " <a class=\"yMWCYupQNdgppL-NV6sMi _3sAlKGsIBCxTUbNi86oSjt\" data-ylk=\"rsec:tpto;slk:list;pos:0\" href=\"https://news.yahoo.co.jp/topics\">トピックス一覧</a>,\n",
       " <a class=\"yMWCYupQNdgppL-NV6sMi _3sAlKGsIBCxTUbNi86oSjt\" data-ylk=\"rsec:personal;slk:login;pos:0\" href=\"https://login.yahoo.co.jp/config/login?.src=www&amp;.done=https://www.yahoo.co.jp/\"><span class=\"fQMqQTGJTbIMxjQwZA2zk _3tGRl6x9iIWRiFTkKl3kcR\">ログイン</span></a>,\n",
       " <a class=\"yMWCYupQNdgppL-NV6sMi _3sAlKGsIBCxTUbNi86oSjt\" data-ylk=\"rsec:personal;slk:reg;pos:0\" href=\"https://account.edit.yahoo.co.jp/registration?.src=www&amp;.done=https://www.yahoo.co.jp/\"><span class=\"_1mkb9myOuisBstoCqO0Hqs\">ID新規取得</span></a>,\n",
       " <a class=\"yMWCYupQNdgppL-NV6sMi _3sAlKGsIBCxTUbNi86oSjt\" data-ylk=\"rsec:personal;slk:profile;pos:0\" href=\"https://login.yahoo.co.jp/config/login?.src=www&amp;.done=https%3A%2F%2Faccounts.yahoo.co.jp%2Fprofile%3F.done%3Dhttps%253A%252F%252Fwww.yahoo.co.jp%252F%253F.src%253Dwww%2526t_cushion%253D1\"><p class=\"_2KSAVmekATGu43KySZB31Z _39bsyXI766slVaQ8YaCP7e\">登録情報</p></a>,\n",
       " <a aria-label=\"メール\" class=\"yMWCYupQNdgppL-NV6sMi _3sAlKGsIBCxTUbNi86oSjt\" data-ylk=\"rsec:personal;slk:mail;pos:0\" href=\"https://mail.yahoo.co.jp/\"><dl class=\"NhCWhleHpZ0CADioxObVu\"><dt class=\"_3KpLuhOuze7bsGr1VOVvCU\"><span class=\"_2Uq6Pw5lfFfxr_OD36xHp6 _1dr5aVDbNPF63JCS2bJhij _3Qi5P0lTFbNkWishPzz8tb\" style=\"width:34px;height:28px\">メール</span></dt><dd class=\"_1CLgF9dk2PVVFQFnko3vN0\"><span class=\"fQMqQTGJTbIMxjQwZA2zk DB1xWkV-AiF3oBGL1BuYd\">メール</span></dd></dl></a>,\n",
       " <a aria-label=\"ポイント確認\" class=\"yMWCYupQNdgppL-NV6sMi _3sAlKGsIBCxTUbNi86oSjt\" data-ylk=\"rsec:personal;slk:point;pos:0;badge:off\" href=\"https://points.yahoo.co.jp/\"><dl class=\"NhCWhleHpZ0CADioxObVu\"><dt class=\"_3KpLuhOuze7bsGr1VOVvCU\"><span class=\"_2Uq6Pw5lfFfxr_OD36xHp6 _1dr5aVDbNPF63JCS2bJhij _2bzYtaEVOOQInqzAcQ1cme\" style=\"width:28px;height:28px\">Ｔポイント</span></dt><dd class=\"_1CLgF9dk2PVVFQFnko3vN0\"><span class=\"fQMqQTGJTbIMxjQwZA2zk DB1xWkV-AiF3oBGL1BuYd\">ポイント確認</span></dd></dl></a>,\n",
       " <a aria-label=\"PayPay残高確認\" class=\"yMWCYupQNdgppL-NV6sMi _3sAlKGsIBCxTUbNi86oSjt\" data-ylk=\"rsec:personal;slk:paypay;pos:0;badge:off\" href=\"https://wallet.yahoo.co.jp/paypay/balance?.done=https%3A%2F%2Fwww.yahoo.co.jp%2F&amp;.bail=https%3A%2F%2Fwww.yahoo.co.jp%2F&amp;.linkdisp=1&amp;sc_e=ywww_pp_top_pc1\"><dl class=\"NhCWhleHpZ0CADioxObVu\"><dt class=\"_3KpLuhOuze7bsGr1VOVvCU\"><span class=\"_2Uq6Pw5lfFfxr_OD36xHp6 _1dr5aVDbNPF63JCS2bJhij _2288dlil4Nkm3lO8Sm3hDU\" style=\"width:28px;height:28px\">PayPay</span></dt><dd class=\"_1CLgF9dk2PVVFQFnko3vN0\"><span class=\"fQMqQTGJTbIMxjQwZA2zk DB1xWkV-AiF3oBGL1BuYd\">PayPay残高確認</span></dd></dl></a>,\n",
       " <a aria-label=\"今日の日付は2020年12月7日　月曜日\" class=\"yMWCYupQNdgppL-NV6sMi _3sAlKGsIBCxTUbNi86oSjt\" data-ylk=\"rsec:today;slk:date;pos:0\" href=\"https://calendar.yahoo.co.jp\"><span class=\"fQMqQTGJTbIMxjQwZA2zk _3tGRl6x9iIWRiFTkKl3kcR\"><time class=\"_39pIdCsxycrMrZfr-69cAP\" datetime=\"2020-12-07T04:01:20.000Z\">2020年12月7日(月)</time></span></a>,\n",
       " <a class=\"yMWCYupQNdgppL-NV6sMi _3sAlKGsIBCxTUbNi86oSjt\" data-ylk=\"rsec:ybb;slk:id;pos:0\" href=\"https://ybb.yahoo.co.jp/hikitsugi/\">Yahoo! BB用IDの変更</a>,\n",
       " <a class=\"yMWCYupQNdgppL-NV6sMi _3sAlKGsIBCxTUbNi86oSjt\" data-ylk=\"rsec:ybb;slk:procedure;pos:0\" href=\"https://ybb.softbank.jp/support/member/\"><span class=\"fQMqQTGJTbIMxjQwZA2zk _3tGRl6x9iIWRiFTkKl3kcR\">各種お手続き</span></a>,\n",
       " <a class=\"yMWCYupQNdgppL-NV6sMi _3sAlKGsIBCxTUbNi86oSjt\" data-ylk=\"rsec:ybb;slk:benefit;pos:0\" href=\"https://bbservice.yahoo.co.jp/\"><span class=\"fQMqQTGJTbIMxjQwZA2zk _3tGRl6x9iIWRiFTkKl3kcR\">会員特典</span></a>,\n",
       " <a class=\"yMWCYupQNdgppL-NV6sMi _3sAlKGsIBCxTUbNi86oSjt\" data-ylk=\"rsec:ybb;slk:option;pos:0\" href=\"https://www.softbank.jp/ybb/option/#/\"><span class=\"fQMqQTGJTbIMxjQwZA2zk _3tGRl6x9iIWRiFTkKl3kcR\">オプションサービス追加</span></a>,\n",
       " <a class=\"yMWCYupQNdgppL-NV6sMi _3sAlKGsIBCxTUbNi86oSjt\" data-ylk=\"rsec:ybb;slk:guide;pos:0\" href=\"https://www.softbank.jp/ybb/member/guide/\"><span class=\"fQMqQTGJTbIMxjQwZA2zk _3tGRl6x9iIWRiFTkKl3kcR\">使い方ガイド</span></a>,\n",
       " <a class=\"yMWCYupQNdgppL-NV6sMi _3sAlKGsIBCxTUbNi86oSjt\" data-ylk=\"rsec:ybb;slk:info;pos:0\" href=\"https://www.softbank.jp/ybb/info/maintenance/\"><span class=\"fQMqQTGJTbIMxjQwZA2zk _3tGRl6x9iIWRiFTkKl3kcR\">障害・メンテナンス情報</span></a>,\n",
       " <a class=\"yMWCYupQNdgppL-NV6sMi _3sAlKGsIBCxTUbNi86oSjt\" data-ylk=\"rsec:ybb;slk:support;pos:0\" href=\"http://ybb.softbank.jp/support/\"><span class=\"fQMqQTGJTbIMxjQwZA2zk _3tGRl6x9iIWRiFTkKl3kcR\">お客様サポート</span></a>,\n",
       " <a class=\"yMWCYupQNdgppL-NV6sMi _3sAlKGsIBCxTUbNi86oSjt\" data-ylk=\"rsec:footer;slk:comp;pos:0\" href=\"https://about.yahoo.co.jp/\">会社概要</a>,\n",
       " <a class=\"yMWCYupQNdgppL-NV6sMi _3sAlKGsIBCxTUbNi86oSjt\" data-ylk=\"rsec:footer;slk:soc;pos:0\" href=\"https://about.yahoo.co.jp/csr/\">社会的責任</a>,\n",
       " <a class=\"yMWCYupQNdgppL-NV6sMi _3sAlKGsIBCxTUbNi86oSjt\" data-ylk=\"rsec:footer;slk:ad;pos:0\" href=\"https://marketing.yahoo.co.jp/\">広告掲載について</a>,\n",
       " <a class=\"yMWCYupQNdgppL-NV6sMi _3sAlKGsIBCxTUbNi86oSjt\" data-ylk=\"rsec:footer;slk:hr;pos:0\" href=\"https://about.yahoo.co.jp/hr/\">採用情報</a>,\n",
       " <a class=\"yMWCYupQNdgppL-NV6sMi _3sAlKGsIBCxTUbNi86oSjt\" data-ylk=\"rsec:footer;slk:agreement;pos:0\" href=\"https://about.yahoo.co.jp/common/terms/\">利用規約</a>,\n",
       " <a class=\"yMWCYupQNdgppL-NV6sMi _3sAlKGsIBCxTUbNi86oSjt\" data-ylk=\"rsec:footer;slk:disc;pos:0\" href=\"https://about.yahoo.co.jp/common/disclaimer/\">免責事項</a>,\n",
       " <a class=\"yMWCYupQNdgppL-NV6sMi _3sAlKGsIBCxTUbNi86oSjt\" data-ylk=\"rsec:footer;slk:state;pos:0\" href=\"https://about.yahoo.co.jp/common/mediastatement/\">メディアステートメント</a>,\n",
       " <a class=\"yMWCYupQNdgppL-NV6sMi _3sAlKGsIBCxTUbNi86oSjt\" data-ylk=\"rsec:footer;slk:policy;pos:0\" href=\"https://privacy.yahoo.co.jp/\">プライバシー</a>,\n",
       " <a class=\"yMWCYupQNdgppL-NV6sMi _3sAlKGsIBCxTUbNi86oSjt\" data-ylk=\"rsec:footer;slk:z_comp;pos:0\" href=\"https://www.z-holdings.co.jp/\">会社概要</a>,\n",
       " <a class=\"yMWCYupQNdgppL-NV6sMi _3sAlKGsIBCxTUbNi86oSjt\" data-ylk=\"rsec:footer;slk:ir;pos:0\" href=\"https://www.z-holdings.co.jp/ir/\">投資家情報</a>]"
      ]
     },
     "execution_count": 6,
     "metadata": {},
     "output_type": "execute_result"
    }
   ],
   "source": [
    "elems"
   ]
  },
  {
   "cell_type": "code",
   "execution_count": 7,
   "metadata": {},
   "outputs": [],
   "source": [
    "import re"
   ]
  },
  {
   "cell_type": "code",
   "execution_count": null,
   "metadata": {},
   "outputs": [],
   "source": []
  },
  {
   "cell_type": "code",
   "execution_count": 8,
   "metadata": {},
   "outputs": [],
   "source": [
    "elems=soup.find_all(href=re.compile(\"news.yahoo.co.jp/pickup\"))"
   ]
  },
  {
   "cell_type": "code",
   "execution_count": 9,
   "metadata": {},
   "outputs": [
    {
     "data": {
      "text/plain": [
       "[<a class=\"yMWCYupQNdgppL-NV6sMi _3sAlKGsIBCxTUbNi86oSjt\" data-ual-gotocontent=\"true\" data-ylk=\"rsec:tpto;slk:title;pos:1;tpid:6378637;imgsize:s;cmt_num:92\" href=\"https://news.yahoo.co.jp/pickup/6378637\"><div class=\"_2cXD1uC4eaOih4-zkRgqjU\"><div class=\"TRuzXRRZHRqbqgLUCCco9\"><h1 class=\"_3cl937Zpn1ce8mDKd5kp7u\"><span class=\"fQMqQTGJTbIMxjQwZA2zk _3tGRl6x9iIWRiFTkKl3kcR\">道と大阪に自衛隊派遣へ 政府</span></h1><span class=\"_2obRU_TgAxzHaYqOXrZYlv\"><span class=\"h4yLXygiSc5wwNlJOQEdz _1dr5aVDbNPF63JCS2bJhij _2M3AyDfFaeJl3Uo7lUPMAp\" style=\"width:30px;height:12px\">NEW</span></span></div></div></a>,\n",
       " <a class=\"yMWCYupQNdgppL-NV6sMi _3sAlKGsIBCxTUbNi86oSjt\" data-ual-gotocontent=\"true\" data-ylk=\"rsec:tpto;slk:title;pos:2;tpid:6378622;imgsize:s;cmt_num:4454\" href=\"https://news.yahoo.co.jp/pickup/6378622\"><div class=\"_2cXD1uC4eaOih4-zkRgqjU\"><div class=\"TRuzXRRZHRqbqgLUCCco9\"><h1 class=\"_3cl937Zpn1ce8mDKd5kp7u\"><span class=\"fQMqQTGJTbIMxjQwZA2zk _3tGRl6x9iIWRiFTkKl3kcR\">内閣支持率が急落55.3% JNN</span></h1></div></div></a>,\n",
       " <a class=\"yMWCYupQNdgppL-NV6sMi _3sAlKGsIBCxTUbNi86oSjt\" data-ual-gotocontent=\"true\" data-ylk=\"rsec:tpto;slk:title;pos:3;tpid:6378634;imgsize:s;cmt_num:69\" href=\"https://news.yahoo.co.jp/pickup/6378634\"><div class=\"_2cXD1uC4eaOih4-zkRgqjU\"><div class=\"TRuzXRRZHRqbqgLUCCco9\"><h1 class=\"_3cl937Zpn1ce8mDKd5kp7u\"><span class=\"fQMqQTGJTbIMxjQwZA2zk _3tGRl6x9iIWRiFTkKl3kcR\">貨物船炎上 2人連絡取れず</span></h1><span class=\"_2obRU_TgAxzHaYqOXrZYlv\"><span class=\"h4yLXygiSc5wwNlJOQEdz _1dr5aVDbNPF63JCS2bJhij _2M3AyDfFaeJl3Uo7lUPMAp\" style=\"width:30px;height:12px\">NEW</span></span></div></div></a>,\n",
       " <a class=\"yMWCYupQNdgppL-NV6sMi _3sAlKGsIBCxTUbNi86oSjt\" data-ual-gotocontent=\"true\" data-ylk=\"rsec:tpto;slk:title;pos:4;tpid:6378626;imgsize:s;cmt_num:230\" href=\"https://news.yahoo.co.jp/pickup/6378626\"><div class=\"_2cXD1uC4eaOih4-zkRgqjU\"><div class=\"TRuzXRRZHRqbqgLUCCco9\"><h1 class=\"_3cl937Zpn1ce8mDKd5kp7u\"><span class=\"fQMqQTGJTbIMxjQwZA2zk _3tGRl6x9iIWRiFTkKl3kcR\">ICOCA 混雑回避で還元を検討</span></h1></div></div></a>,\n",
       " <a class=\"yMWCYupQNdgppL-NV6sMi _3sAlKGsIBCxTUbNi86oSjt\" data-ual-gotocontent=\"true\" data-ylk=\"rsec:tpto;slk:title;pos:5;tpid:6378617;imgsize:s;cmt_num:45\" href=\"https://news.yahoo.co.jp/pickup/6378617\"><div class=\"_2cXD1uC4eaOih4-zkRgqjU\"><div class=\"TRuzXRRZHRqbqgLUCCco9\"><h1 class=\"_3cl937Zpn1ce8mDKd5kp7u\"><span class=\"fQMqQTGJTbIMxjQwZA2zk _3tGRl6x9iIWRiFTkKl3kcR\">コロナ禍 仕事減る公認サンタ</span></h1><span class=\"_2obRU_TgAxzHaYqOXrZYlv\"><span class=\"h4yLXygiSc5wwNlJOQEdz _1dr5aVDbNPF63JCS2bJhij _2M3AyDfFaeJl3Uo7lUPMAp\" style=\"width:30px;height:12px\">NEW</span></span></div></div></a>,\n",
       " <a class=\"yMWCYupQNdgppL-NV6sMi _3sAlKGsIBCxTUbNi86oSjt\" data-ual-gotocontent=\"true\" data-ylk=\"rsec:tpto;slk:title;pos:6;tpid:6378624;imgsize:s;cmt_num:1660\" href=\"https://news.yahoo.co.jp/pickup/6378624\"><div class=\"_2cXD1uC4eaOih4-zkRgqjU\"><div class=\"TRuzXRRZHRqbqgLUCCco9\"><h1 class=\"_3cl937Zpn1ce8mDKd5kp7u\"><span class=\"fQMqQTGJTbIMxjQwZA2zk _3tGRl6x9iIWRiFTkKl3kcR\">新庄氏参戦 トライアウト開始</span></h1></div></div></a>,\n",
       " <a class=\"yMWCYupQNdgppL-NV6sMi _3sAlKGsIBCxTUbNi86oSjt\" data-ual-gotocontent=\"true\" data-ylk=\"rsec:tpto;slk:title;pos:7;tpid:6378639;imgsize:s;cmt_num:334\" href=\"https://news.yahoo.co.jp/pickup/6378639\"><div class=\"_2cXD1uC4eaOih4-zkRgqjU\"><div class=\"TRuzXRRZHRqbqgLUCCco9\"><h1 class=\"_3cl937Zpn1ce8mDKd5kp7u\"><span class=\"fQMqQTGJTbIMxjQwZA2zk _3tGRl6x9iIWRiFTkKl3kcR\">手越祐也のYouTube なぜ成功</span></h1><span class=\"_2obRU_TgAxzHaYqOXrZYlv\"><span class=\"h4yLXygiSc5wwNlJOQEdz _1dr5aVDbNPF63JCS2bJhij _2M3AyDfFaeJl3Uo7lUPMAp\" style=\"width:30px;height:12px\">NEW</span></span></div></div></a>,\n",
       " <a class=\"yMWCYupQNdgppL-NV6sMi _3sAlKGsIBCxTUbNi86oSjt\" data-ual-gotocontent=\"true\" data-ylk=\"rsec:tpto;slk:title;pos:8;tpid:6378631;imgsize:s;cmt_num:425\" href=\"https://news.yahoo.co.jp/pickup/6378631\"><div class=\"_2cXD1uC4eaOih4-zkRgqjU\"><div class=\"TRuzXRRZHRqbqgLUCCco9\"><h1 class=\"_3cl937Zpn1ce8mDKd5kp7u\"><span class=\"fQMqQTGJTbIMxjQwZA2zk _3tGRl6x9iIWRiFTkKl3kcR\">具志堅 愛犬グスマンとの別れ</span></h1></div></div></a>]"
      ]
     },
     "execution_count": 9,
     "metadata": {},
     "output_type": "execute_result"
    }
   ],
   "source": [
    "elems"
   ]
  },
  {
   "cell_type": "code",
   "execution_count": 14,
   "metadata": {},
   "outputs": [
    {
     "data": {
      "text/plain": [
       "'道と大阪に自衛隊派遣へ 政府'"
      ]
     },
     "execution_count": 14,
     "metadata": {},
     "output_type": "execute_result"
    }
   ],
   "source": [
    "elems[0].span.string"
   ]
  },
  {
   "cell_type": "code",
   "execution_count": 11,
   "metadata": {},
   "outputs": [
    {
     "data": {
      "text/plain": [
       "'https://news.yahoo.co.jp/pickup/6378637'"
      ]
     },
     "execution_count": 11,
     "metadata": {},
     "output_type": "execute_result"
    }
   ],
   "source": [
    "elems[0].attrs[\"href\"]"
   ]
  },
  {
   "cell_type": "code",
   "execution_count": 12,
   "metadata": {},
   "outputs": [
    {
     "data": {
      "text/plain": [
       "'https://news.yahoo.co.jp/pickup/6378622'"
      ]
     },
     "execution_count": 12,
     "metadata": {},
     "output_type": "execute_result"
    }
   ],
   "source": [
    "elems[1].attrs[\"href\"]"
   ]
  },
  {
   "cell_type": "code",
   "execution_count": 15,
   "metadata": {},
   "outputs": [
    {
     "name": "stdout",
     "output_type": "stream",
     "text": [
      "道と大阪に自衛隊派遣へ 政府\n",
      "https://news.yahoo.co.jp/pickup/6378637\n",
      "内閣支持率が急落55.3% JNN\n",
      "https://news.yahoo.co.jp/pickup/6378622\n",
      "貨物船炎上 2人連絡取れず\n",
      "https://news.yahoo.co.jp/pickup/6378634\n",
      "ICOCA 混雑回避で還元を検討\n",
      "https://news.yahoo.co.jp/pickup/6378626\n",
      "コロナ禍 仕事減る公認サンタ\n",
      "https://news.yahoo.co.jp/pickup/6378617\n",
      "新庄氏参戦 トライアウト開始\n",
      "https://news.yahoo.co.jp/pickup/6378624\n",
      "手越祐也のYouTube なぜ成功\n",
      "https://news.yahoo.co.jp/pickup/6378639\n",
      "具志堅 愛犬グスマンとの別れ\n",
      "https://news.yahoo.co.jp/pickup/6378631\n"
     ]
    }
   ],
   "source": [
    "for elem in elems:\n",
    "    print(elem.span.string)\n",
    "    print(elem.attrs[\"href\"])"
   ]
  },
  {
   "cell_type": "code",
   "execution_count": 23,
   "metadata": {},
   "outputs": [
    {
     "name": "stdout",
     "output_type": "stream",
     "text": [
      "['https://news.yahoo.co.jp/pickup/6378637', 'https://news.yahoo.co.jp/pickup/6378622', 'https://news.yahoo.co.jp/pickup/6378634', 'https://news.yahoo.co.jp/pickup/6378626', 'https://news.yahoo.co.jp/pickup/6378617', 'https://news.yahoo.co.jp/pickup/6378624', 'https://news.yahoo.co.jp/pickup/6378639', 'https://news.yahoo.co.jp/pickup/6378631']\n"
     ]
    }
   ],
   "source": [
    "pickup_links = [elem.attrs[\"href\"] for elem in elems]\n",
    "print (pickup_links)"
   ]
  },
  {
   "cell_type": "code",
   "execution_count": 25,
   "metadata": {},
   "outputs": [
    {
     "name": "stdout",
     "output_type": "stream",
     "text": [
      "https://headlines.yahoo.co.jp/hl?a=20201207-00000036-jij-pol\n",
      "https://headlines.yahoo.co.jp/hl?a=20201207-00000007-jnn-pol\n",
      "https://headlines.yahoo.co.jp/hl?a=20201207-00216208-fnn-soci\n",
      "https://headlines.yahoo.co.jp/hl?a=20201207-00000006-asahi-bus_all\n",
      "https://headlines.yahoo.co.jp/hl?a=20201207-22060718-nksports-soci\n",
      "https://headlines.yahoo.co.jp/hl?a=20201207-00000125-spnannex-base\n",
      "https://headlines.yahoo.co.jp/article?a=20201207-00010008-jisin-ent\n",
      "https://headlines.yahoo.co.jp/hl?a=20201207-00010001-hintpot-life\n"
     ]
    }
   ],
   "source": [
    "for pickup_link in pickup_links:\n",
    "    pickup_res =requests.get(pickup_link)\n",
    "    pickup_soup=BeautifulSoup(pickup_res.text,\"html.parser\")\n",
    "    \n",
    "    pickup_elem=pickup_soup.find(\"p\",class_=\"sc-OqFzE\")\n",
    "    news_link=pickup_elem.a.attrs[\"href\"]\n",
    "    print(news_link)\n",
    "    \n",
    "    news_res=requests.get(news_link)\n",
    "    news_soup=BeautifulSoup(news_res.text,\"html.parser\")\n",
    "    \n",
    "    print(news_soup.title.text)\n",
    "    print(news_link)\n",
    "    \n",
    "    detail_text=news_soup.find(class_=re.compile(\"SlinkDirectlink\"))\n",
    "    print(detail_text.text if hasattr(detail_text,\"text\") else '', end=\"\\n\\n\\n\")\n",
    "    \n",
    "    time"
   ]
  },
  {
   "cell_type": "code",
   "execution_count": null,
   "metadata": {},
   "outputs": [],
   "source": []
  }
 ],
 "metadata": {
  "kernelspec": {
   "display_name": "Python 3",
   "language": "python",
   "name": "python3"
  },
  "language_info": {
   "codemirror_mode": {
    "name": "ipython",
    "version": 3
   },
   "file_extension": ".py",
   "mimetype": "text/x-python",
   "name": "python",
   "nbconvert_exporter": "python",
   "pygments_lexer": "ipython3",
   "version": "3.9.0"
  }
 },
 "nbformat": 4,
 "nbformat_minor": 4
}

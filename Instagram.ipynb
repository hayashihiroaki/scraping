{
 "cells": [
  {
   "cell_type": "code",
   "execution_count": 1,
   "metadata": {},
   "outputs": [],
   "source": [
    "from selenium import webdriver\n",
    "from time import sleep"
   ]
  },
  {
   "cell_type": "code",
   "execution_count": 2,
   "metadata": {},
   "outputs": [],
   "source": [
    "username=\"09066108106\"\n",
    "password=\"9261njn0\""
   ]
  },
  {
   "cell_type": "code",
   "execution_count": 3,
   "metadata": {},
   "outputs": [],
   "source": [
    "driver=webdriver.Chrome()\n",
    "url=\"https://www.instagram.com/\"\n",
    "driver.get(url)\n",
    "sleep(1)"
   ]
  },
  {
   "cell_type": "code",
   "execution_count": 4,
   "metadata": {},
   "outputs": [],
   "source": [
    "error_flg=False"
   ]
  },
  {
   "cell_type": "code",
   "execution_count": 5,
   "metadata": {},
   "outputs": [],
   "source": [
    "try:\n",
    "    username_input=driver.find_element_by_xpath(\"//input[@aria-label='電話番号、ユーザーネーム、メールアドレス']\")\n",
    "    username_input.send_keys(username)\n",
    "    sleep(1)\n",
    "    \n",
    "    password_input=driver.find_element_by_xpath(\"//input[@aria-label='パスワード']\")\n",
    "    password_input.send_keys(password)\n",
    "    sleep(1)\n",
    "    \n",
    "    login_button=driver.find_element_by_xpath(\"//button[@type='submit']\")\n",
    "    login_button.submit()\n",
    "    sleep(1)\n",
    "    \n",
    "except Exception:\n",
    "    error_flg=True\n",
    "    print(\"ユーザー名、パスワード入力エラー\")"
   ]
  },
  {
   "cell_type": "code",
   "execution_count": 6,
   "metadata": {},
   "outputs": [],
   "source": [
    "if error_flg is False:\n",
    "    try:\n",
    "        sleep(3)\n",
    "        notnow_button=driver.find_element_by_xpath(\"//button[text()='後で']\")\n",
    "        notnow_button.click()\n",
    "        sleep(1)\n",
    "        \n",
    "        now_button=driver.find_element_by_xpath(\"//button[text()='後で']\")\n",
    "        now_button.click()\n",
    "        sleep(1)\n",
    "            \n",
    "    except Exception:\n",
    "        pass"
   ]
  }
 ],
 "metadata": {
  "kernelspec": {
   "display_name": "Python 3",
   "language": "python",
   "name": "python3"
  },
  "language_info": {
   "codemirror_mode": {
    "name": "ipython",
    "version": 3
   },
   "file_extension": ".py",
   "mimetype": "text/x-python",
   "name": "python",
   "nbconvert_exporter": "python",
   "pygments_lexer": "ipython3",
   "version": "3.9.0"
  }
 },
 "nbformat": 4,
 "nbformat_minor": 4
}
